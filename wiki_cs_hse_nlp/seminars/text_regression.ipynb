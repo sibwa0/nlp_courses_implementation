{
 "cells": [
  {
   "cell_type": "markdown",
   "metadata": {
    "id": "fwclRF2DuXML"
   },
   "source": [
    "# Семинар 2. Текстовая регрессия\n",
    "\n",
    "В этом семинаре нам предстоит решить задачу предсказания зарплаты по описанию вакансии."
   ]
  },
  {
   "cell_type": "code",
   "execution_count": 4,
   "metadata": {
    "id": "NSM3tFu-uXMM"
   },
   "outputs": [],
   "source": [
    "import numpy as np\n",
    "import pandas as pd\n",
    "import matplotlib.pyplot as plt\n",
    "from tqdm.auto import tqdm\n",
    "import re\n",
    "%matplotlib inline"
   ]
  },
  {
   "cell_type": "markdown",
   "metadata": {
    "id": "ImNk-LGHuXMN"
   },
   "source": [
    "Для начала скачиваем данные."
   ]
  },
  {
   "cell_type": "code",
   "execution_count": 5,
   "metadata": {
    "colab": {
     "base_uri": "https://localhost:8080/"
    },
    "id": "daXFOpvuuXMN",
    "outputId": "355b320f-5b15-4ba9-f5fb-50b4e2493963"
   },
   "outputs": [
    {
     "data": {
      "text/plain": [
       "(244768, 12)"
      ]
     },
     "execution_count": 5,
     "metadata": {},
     "output_type": "execute_result"
    }
   ],
   "source": [
    "# !wget https://ysda-seminars.s3.eu-central-1.amazonaws.com/Train_rev1.zip\n",
    "data = pd.read_csv(\"./Train_rev1.zip\", compression='zip', index_col=None)\n",
    "data.shape"
   ]
  },
  {
   "cell_type": "code",
   "execution_count": 6,
   "metadata": {
    "colab": {
     "base_uri": "https://localhost:8080/",
     "height": 503
    },
    "id": "1-q8_dKmuXMO",
    "outputId": "f9912c06-1f31-4dd0-dc21-265a68ffd616"
   },
   "outputs": [
    {
     "data": {
      "text/html": [
       "<div>\n",
       "<style scoped>\n",
       "    .dataframe tbody tr th:only-of-type {\n",
       "        vertical-align: middle;\n",
       "    }\n",
       "\n",
       "    .dataframe tbody tr th {\n",
       "        vertical-align: top;\n",
       "    }\n",
       "\n",
       "    .dataframe thead th {\n",
       "        text-align: right;\n",
       "    }\n",
       "</style>\n",
       "<table border=\"1\" class=\"dataframe\">\n",
       "  <thead>\n",
       "    <tr style=\"text-align: right;\">\n",
       "      <th></th>\n",
       "      <th>Id</th>\n",
       "      <th>Title</th>\n",
       "      <th>FullDescription</th>\n",
       "      <th>LocationRaw</th>\n",
       "      <th>LocationNormalized</th>\n",
       "      <th>ContractType</th>\n",
       "      <th>ContractTime</th>\n",
       "      <th>Company</th>\n",
       "      <th>Category</th>\n",
       "      <th>SalaryRaw</th>\n",
       "      <th>SalaryNormalized</th>\n",
       "      <th>SourceName</th>\n",
       "    </tr>\n",
       "  </thead>\n",
       "  <tbody>\n",
       "    <tr>\n",
       "      <th>0</th>\n",
       "      <td>12612628</td>\n",
       "      <td>Engineering Systems Analyst</td>\n",
       "      <td>Engineering Systems Analyst Dorking Surrey Sal...</td>\n",
       "      <td>Dorking, Surrey, Surrey</td>\n",
       "      <td>Dorking</td>\n",
       "      <td>NaN</td>\n",
       "      <td>permanent</td>\n",
       "      <td>Gregory Martin International</td>\n",
       "      <td>Engineering Jobs</td>\n",
       "      <td>20000 - 30000/annum 20-30K</td>\n",
       "      <td>25000</td>\n",
       "      <td>cv-library.co.uk</td>\n",
       "    </tr>\n",
       "    <tr>\n",
       "      <th>1</th>\n",
       "      <td>12612830</td>\n",
       "      <td>Stress Engineer Glasgow</td>\n",
       "      <td>Stress Engineer Glasgow Salary **** to **** We...</td>\n",
       "      <td>Glasgow, Scotland, Scotland</td>\n",
       "      <td>Glasgow</td>\n",
       "      <td>NaN</td>\n",
       "      <td>permanent</td>\n",
       "      <td>Gregory Martin International</td>\n",
       "      <td>Engineering Jobs</td>\n",
       "      <td>25000 - 35000/annum 25-35K</td>\n",
       "      <td>30000</td>\n",
       "      <td>cv-library.co.uk</td>\n",
       "    </tr>\n",
       "    <tr>\n",
       "      <th>2</th>\n",
       "      <td>12612844</td>\n",
       "      <td>Modelling and simulation analyst</td>\n",
       "      <td>Mathematical Modeller / Simulation Analyst / O...</td>\n",
       "      <td>Hampshire, South East, South East</td>\n",
       "      <td>Hampshire</td>\n",
       "      <td>NaN</td>\n",
       "      <td>permanent</td>\n",
       "      <td>Gregory Martin International</td>\n",
       "      <td>Engineering Jobs</td>\n",
       "      <td>20000 - 40000/annum 20-40K</td>\n",
       "      <td>30000</td>\n",
       "      <td>cv-library.co.uk</td>\n",
       "    </tr>\n",
       "    <tr>\n",
       "      <th>3</th>\n",
       "      <td>12613049</td>\n",
       "      <td>Engineering Systems Analyst / Mathematical Mod...</td>\n",
       "      <td>Engineering Systems Analyst / Mathematical Mod...</td>\n",
       "      <td>Surrey, South East, South East</td>\n",
       "      <td>Surrey</td>\n",
       "      <td>NaN</td>\n",
       "      <td>permanent</td>\n",
       "      <td>Gregory Martin International</td>\n",
       "      <td>Engineering Jobs</td>\n",
       "      <td>25000 - 30000/annum 25K-30K negotiable</td>\n",
       "      <td>27500</td>\n",
       "      <td>cv-library.co.uk</td>\n",
       "    </tr>\n",
       "    <tr>\n",
       "      <th>4</th>\n",
       "      <td>12613647</td>\n",
       "      <td>Pioneer, Miser Engineering Systems Analyst</td>\n",
       "      <td>Pioneer, Miser  Engineering Systems Analyst Do...</td>\n",
       "      <td>Surrey, South East, South East</td>\n",
       "      <td>Surrey</td>\n",
       "      <td>NaN</td>\n",
       "      <td>permanent</td>\n",
       "      <td>Gregory Martin International</td>\n",
       "      <td>Engineering Jobs</td>\n",
       "      <td>20000 - 30000/annum 20-30K</td>\n",
       "      <td>25000</td>\n",
       "      <td>cv-library.co.uk</td>\n",
       "    </tr>\n",
       "  </tbody>\n",
       "</table>\n",
       "</div>"
      ],
      "text/plain": [
       "         Id                                              Title  \\\n",
       "0  12612628                        Engineering Systems Analyst   \n",
       "1  12612830                            Stress Engineer Glasgow   \n",
       "2  12612844                   Modelling and simulation analyst   \n",
       "3  12613049  Engineering Systems Analyst / Mathematical Mod...   \n",
       "4  12613647         Pioneer, Miser Engineering Systems Analyst   \n",
       "\n",
       "                                     FullDescription  \\\n",
       "0  Engineering Systems Analyst Dorking Surrey Sal...   \n",
       "1  Stress Engineer Glasgow Salary **** to **** We...   \n",
       "2  Mathematical Modeller / Simulation Analyst / O...   \n",
       "3  Engineering Systems Analyst / Mathematical Mod...   \n",
       "4  Pioneer, Miser  Engineering Systems Analyst Do...   \n",
       "\n",
       "                         LocationRaw LocationNormalized ContractType  \\\n",
       "0            Dorking, Surrey, Surrey            Dorking          NaN   \n",
       "1        Glasgow, Scotland, Scotland            Glasgow          NaN   \n",
       "2  Hampshire, South East, South East          Hampshire          NaN   \n",
       "3     Surrey, South East, South East             Surrey          NaN   \n",
       "4     Surrey, South East, South East             Surrey          NaN   \n",
       "\n",
       "  ContractTime                       Company          Category  \\\n",
       "0    permanent  Gregory Martin International  Engineering Jobs   \n",
       "1    permanent  Gregory Martin International  Engineering Jobs   \n",
       "2    permanent  Gregory Martin International  Engineering Jobs   \n",
       "3    permanent  Gregory Martin International  Engineering Jobs   \n",
       "4    permanent  Gregory Martin International  Engineering Jobs   \n",
       "\n",
       "                                SalaryRaw  SalaryNormalized        SourceName  \n",
       "0              20000 - 30000/annum 20-30K             25000  cv-library.co.uk  \n",
       "1              25000 - 35000/annum 25-35K             30000  cv-library.co.uk  \n",
       "2              20000 - 40000/annum 20-40K             30000  cv-library.co.uk  \n",
       "3  25000 - 30000/annum 25K-30K negotiable             27500  cv-library.co.uk  \n",
       "4              20000 - 30000/annum 20-30K             25000  cv-library.co.uk  "
      ]
     },
     "execution_count": 6,
     "metadata": {},
     "output_type": "execute_result"
    }
   ],
   "source": [
    "data.head()"
   ]
  },
  {
   "cell_type": "markdown",
   "metadata": {
    "id": "r5oxzyAEuXMO"
   },
   "source": [
    "Первая проблема, с которой мы столкнемся - это распределение зарплат, близкое к экспоненциальному. Многие получают среднюю зарплату, но есть небольшая кучка людей с аномально высокой зарплатой. Как вы знаете из курса по машинному обучению, обучение модели на минимизацию MSE имеет смысл только тогда, когда таргеты распределены нормально. В противном случае стоит либо использовать другую функцию ошибки, либо как-то превести данные к нормальному распределению. Мы пойдем по второму пути и накинем логарифм на значения зарплат.\n",
    "\n",
    "_Больше информации по этому вопросу в [описании соревнования](https://www.kaggle.com/c/job-salary-prediction#description)._"
   ]
  },
  {
   "cell_type": "code",
   "execution_count": 7,
   "metadata": {
    "colab": {
     "base_uri": "https://localhost:8080/",
     "height": 370
    },
    "id": "xmD1siiRuXMO",
    "outputId": "d2fe64d9-e85f-4f71-8c62-134050a97c20"
   },
   "outputs": [
    {
     "data": {
      "image/png": "[encoded data removed]",
      "text/plain": [
       "<Figure size 1400x400 with 2 Axes>"
      ]
     },
     "metadata": {},
     "output_type": "display_data"
    }
   ],
   "source": [
    "data['Log1pSalary'] = np.log1p(data['SalaryNormalized']).astype('float32')\n",
    "\n",
    "plt.figure(figsize=[14, 4])\n",
    "plt.subplot(1, 2, 1)\n",
    "plt.hist(data[\"SalaryNormalized\"], bins=50);\n",
    "\n",
    "plt.subplot(1, 2, 2)\n",
    "plt.hist(data['Log1pSalary'], bins=50);"
   ]
  },
  {
   "cell_type": "markdown",
   "metadata": {
    "id": "mMr5KyzNuXMO"
   },
   "source": [
    "Итак, наша задача - предсказать значение __Log1pSalary__.\n",
    "\n",
    "Для этого мы можем извлечь признаки из\n",
    "* текстовых данных: __`Title`__,  __`FullDescription`__\n",
    "* категориальных данных: __`Category`__, __`Company`__, __`LocationNormalized`__, __`ContractType`__, __`ContractTime`__"
   ]
  },
  {
   "cell_type": "code",
   "execution_count": 8,
   "metadata": {},
   "outputs": [
    {
     "data": {
      "text/html": [
       "<div>\n",
       "<style scoped>\n",
       "    .dataframe tbody tr th:only-of-type {\n",
       "        vertical-align: middle;\n",
       "    }\n",
       "\n",
       "    .dataframe tbody tr th {\n",
       "        vertical-align: top;\n",
       "    }\n",
       "\n",
       "    .dataframe thead th {\n",
       "        text-align: right;\n",
       "    }\n",
       "</style>\n",
       "<table border=\"1\" class=\"dataframe\">\n",
       "  <thead>\n",
       "    <tr style=\"text-align: right;\">\n",
       "      <th></th>\n",
       "      <th>Id</th>\n",
       "      <th>Title</th>\n",
       "      <th>FullDescription</th>\n",
       "      <th>LocationRaw</th>\n",
       "      <th>LocationNormalized</th>\n",
       "      <th>ContractType</th>\n",
       "      <th>ContractTime</th>\n",
       "      <th>Company</th>\n",
       "      <th>Category</th>\n",
       "      <th>SalaryRaw</th>\n",
       "      <th>SalaryNormalized</th>\n",
       "      <th>SourceName</th>\n",
       "      <th>Log1pSalary</th>\n",
       "    </tr>\n",
       "  </thead>\n",
       "  <tbody>\n",
       "    <tr>\n",
       "      <th>0</th>\n",
       "      <td>12612628</td>\n",
       "      <td>Engineering Systems Analyst</td>\n",
       "      <td>Engineering Systems Analyst Dorking Surrey Sal...</td>\n",
       "      <td>Dorking, Surrey, Surrey</td>\n",
       "      <td>Dorking</td>\n",
       "      <td>NaN</td>\n",
       "      <td>permanent</td>\n",
       "      <td>Gregory Martin International</td>\n",
       "      <td>Engineering Jobs</td>\n",
       "      <td>20000 - 30000/annum 20-30K</td>\n",
       "      <td>25000</td>\n",
       "      <td>cv-library.co.uk</td>\n",
       "      <td>10.126671</td>\n",
       "    </tr>\n",
       "    <tr>\n",
       "      <th>1</th>\n",
       "      <td>12612830</td>\n",
       "      <td>Stress Engineer Glasgow</td>\n",
       "      <td>Stress Engineer Glasgow Salary **** to **** We...</td>\n",
       "      <td>Glasgow, Scotland, Scotland</td>\n",
       "      <td>Glasgow</td>\n",
       "      <td>NaN</td>\n",
       "      <td>permanent</td>\n",
       "      <td>Gregory Martin International</td>\n",
       "      <td>Engineering Jobs</td>\n",
       "      <td>25000 - 35000/annum 25-35K</td>\n",
       "      <td>30000</td>\n",
       "      <td>cv-library.co.uk</td>\n",
       "      <td>10.308986</td>\n",
       "    </tr>\n",
       "    <tr>\n",
       "      <th>2</th>\n",
       "      <td>12612844</td>\n",
       "      <td>Modelling and simulation analyst</td>\n",
       "      <td>Mathematical Modeller / Simulation Analyst / O...</td>\n",
       "      <td>Hampshire, South East, South East</td>\n",
       "      <td>Hampshire</td>\n",
       "      <td>NaN</td>\n",
       "      <td>permanent</td>\n",
       "      <td>Gregory Martin International</td>\n",
       "      <td>Engineering Jobs</td>\n",
       "      <td>20000 - 40000/annum 20-40K</td>\n",
       "      <td>30000</td>\n",
       "      <td>cv-library.co.uk</td>\n",
       "      <td>10.308986</td>\n",
       "    </tr>\n",
       "  </tbody>\n",
       "</table>\n",
       "</div>"
      ],
      "text/plain": [
       "         Id                             Title  \\\n",
       "0  12612628       Engineering Systems Analyst   \n",
       "1  12612830           Stress Engineer Glasgow   \n",
       "2  12612844  Modelling and simulation analyst   \n",
       "\n",
       "                                     FullDescription  \\\n",
       "0  Engineering Systems Analyst Dorking Surrey Sal...   \n",
       "1  Stress Engineer Glasgow Salary **** to **** We...   \n",
       "2  Mathematical Modeller / Simulation Analyst / O...   \n",
       "\n",
       "                         LocationRaw LocationNormalized ContractType  \\\n",
       "0            Dorking, Surrey, Surrey            Dorking          NaN   \n",
       "1        Glasgow, Scotland, Scotland            Glasgow          NaN   \n",
       "2  Hampshire, South East, South East          Hampshire          NaN   \n",
       "\n",
       "  ContractTime                       Company          Category  \\\n",
       "0    permanent  Gregory Martin International  Engineering Jobs   \n",
       "1    permanent  Gregory Martin International  Engineering Jobs   \n",
       "2    permanent  Gregory Martin International  Engineering Jobs   \n",
       "\n",
       "                    SalaryRaw  SalaryNormalized        SourceName  Log1pSalary  \n",
       "0  20000 - 30000/annum 20-30K             25000  cv-library.co.uk    10.126671  \n",
       "1  25000 - 35000/annum 25-35K             30000  cv-library.co.uk    10.308986  \n",
       "2  20000 - 40000/annum 20-40K             30000  cv-library.co.uk    10.308986  "
      ]
     },
     "execution_count": 8,
     "metadata": {},
     "output_type": "execute_result"
    }
   ],
   "source": [
    "data.head(3)"
   ]
  },
  {
   "cell_type": "code",
   "execution_count": 9,
   "metadata": {},
   "outputs": [
    {
     "data": {
      "text/plain": [
       "Index(['Id', 'Title', 'FullDescription', 'LocationRaw', 'LocationNormalized',\n",
       "       'ContractType', 'ContractTime', 'Company', 'Category', 'SalaryRaw',\n",
       "       'SalaryNormalized', 'SourceName', 'Log1pSalary'],\n",
       "      dtype='object')"
      ]
     },
     "execution_count": 9,
     "metadata": {},
     "output_type": "execute_result"
    }
   ],
   "source": [
    "data.columns"
   ]
  },
  {
   "cell_type": "code",
   "execution_count": 10,
   "metadata": {
    "colab": {
     "base_uri": "https://localhost:8080/",
     "height": 319
    },
    "id": "aGXeLjm0uXMO",
    "outputId": "f297cb97-21c7-4d4b-8f8e-6b434f470c67"
   },
   "outputs": [
    {
     "data": {
      "text/html": [
       "<div>\n",
       "<style scoped>\n",
       "    .dataframe tbody tr th:only-of-type {\n",
       "        vertical-align: middle;\n",
       "    }\n",
       "\n",
       "    .dataframe tbody tr th {\n",
       "        vertical-align: top;\n",
       "    }\n",
       "\n",
       "    .dataframe thead th {\n",
       "        text-align: right;\n",
       "    }\n",
       "</style>\n",
       "<table border=\"1\" class=\"dataframe\">\n",
       "  <thead>\n",
       "    <tr style=\"text-align: right;\">\n",
       "      <th></th>\n",
       "      <th>Id</th>\n",
       "      <th>Title</th>\n",
       "      <th>FullDescription</th>\n",
       "      <th>LocationRaw</th>\n",
       "      <th>LocationNormalized</th>\n",
       "      <th>ContractType</th>\n",
       "      <th>ContractTime</th>\n",
       "      <th>Company</th>\n",
       "      <th>Category</th>\n",
       "      <th>SalaryRaw</th>\n",
       "      <th>SalaryNormalized</th>\n",
       "      <th>SourceName</th>\n",
       "      <th>Log1pSalary</th>\n",
       "    </tr>\n",
       "  </thead>\n",
       "  <tbody>\n",
       "    <tr>\n",
       "      <th>37084</th>\n",
       "      <td>68289343</td>\n",
       "      <td>Senior Social Worker  Children s Services  Car...</td>\n",
       "      <td>Swim Social Work are looking for a senior soci...</td>\n",
       "      <td>Cardiff, South Wales</td>\n",
       "      <td>UK</td>\n",
       "      <td>NaN</td>\n",
       "      <td>NaN</td>\n",
       "      <td>Swim Recruitment</td>\n",
       "      <td>Social work Jobs</td>\n",
       "      <td>26 per hour + Ltd</td>\n",
       "      <td>49920</td>\n",
       "      <td>jobs.communitycare.co.uk</td>\n",
       "      <td>10.818197</td>\n",
       "    </tr>\n",
       "    <tr>\n",
       "      <th>140640</th>\n",
       "      <td>70577343</td>\n",
       "      <td>Electronic Documentation / Component Engineer</td>\n",
       "      <td>Electronic Documentation Engineer Established ...</td>\n",
       "      <td>Colchester, Essex</td>\n",
       "      <td>Colchester</td>\n",
       "      <td>NaN</td>\n",
       "      <td>permanent</td>\n",
       "      <td>HR GO plc</td>\n",
       "      <td>Engineering Jobs</td>\n",
       "      <td>16000 - 22000/annum</td>\n",
       "      <td>19000</td>\n",
       "      <td>cv-library.co.uk</td>\n",
       "      <td>9.852247</td>\n",
       "    </tr>\n",
       "    <tr>\n",
       "      <th>212525</th>\n",
       "      <td>72230941</td>\n",
       "      <td>Hydraulic Test Technician</td>\n",
       "      <td>Hydraulic Test Technician ****ph Ltd 6 Months ...</td>\n",
       "      <td>Tewkesbury Gloucestershire South West</td>\n",
       "      <td>Tewkesbury</td>\n",
       "      <td>NaN</td>\n",
       "      <td>contract</td>\n",
       "      <td>Intech Recruitment.</td>\n",
       "      <td>Engineering Jobs</td>\n",
       "      <td>25 - 30 per hour</td>\n",
       "      <td>52800</td>\n",
       "      <td>totaljobs.com</td>\n",
       "      <td>10.874286</td>\n",
       "    </tr>\n",
       "  </tbody>\n",
       "</table>\n",
       "</div>"
      ],
      "text/plain": [
       "              Id                                              Title  \\\n",
       "37084   68289343  Senior Social Worker  Children s Services  Car...   \n",
       "140640  70577343      Electronic Documentation / Component Engineer   \n",
       "212525  72230941                          Hydraulic Test Technician   \n",
       "\n",
       "                                          FullDescription  \\\n",
       "37084   Swim Social Work are looking for a senior soci...   \n",
       "140640  Electronic Documentation Engineer Established ...   \n",
       "212525  Hydraulic Test Technician ****ph Ltd 6 Months ...   \n",
       "\n",
       "                                  LocationRaw LocationNormalized ContractType  \\\n",
       "37084                    Cardiff, South Wales                 UK          NaN   \n",
       "140640                      Colchester, Essex         Colchester          NaN   \n",
       "212525  Tewkesbury Gloucestershire South West         Tewkesbury          NaN   \n",
       "\n",
       "       ContractTime              Company          Category  \\\n",
       "37084           NaN     Swim Recruitment  Social work Jobs   \n",
       "140640    permanent            HR GO plc  Engineering Jobs   \n",
       "212525     contract  Intech Recruitment.  Engineering Jobs   \n",
       "\n",
       "                  SalaryRaw  SalaryNormalized                SourceName  \\\n",
       "37084     26 per hour + Ltd             49920  jobs.communitycare.co.uk   \n",
       "140640  16000 - 22000/annum             19000          cv-library.co.uk   \n",
       "212525     25 - 30 per hour             52800             totaljobs.com   \n",
       "\n",
       "        Log1pSalary  \n",
       "37084     10.818197  \n",
       "140640     9.852247  \n",
       "212525    10.874286  "
      ]
     },
     "execution_count": 10,
     "metadata": {},
     "output_type": "execute_result"
    }
   ],
   "source": [
    "text_columns = [\"Title\", \"FullDescription\"]\n",
    "categorical_columns = [\"Category\", \"Company\", \"LocationNormalized\", \"ContractType\", \"ContractTime\"]\n",
    "TARGET_COLUMN = \"Log1pSalary\"\n",
    "\n",
    "data[categorical_columns] = data[categorical_columns].fillna('NaN') # cast missing values to string \"NaN\"\n",
    "\n",
    "data.sample(3)"
   ]
  },
  {
   "cell_type": "markdown",
   "metadata": {
    "id": "sxu0NeUPuXMO"
   },
   "source": [
    "### Начнем с текстовых данных\n",
    "\n",
    "Как и в любой NLP задаче, сперва текст надо токенизировать. Сделаем это так же, как и на прошлом семинаре. Приведем текст к нижнему регистру, удалим всю пунктуацию и поделим на слова.\n",
    "\n",
    "Для дальнейшего удобства лучше хранить каждый токенизированных текст в виде __одной строки со словами, разделенными пробелами__, а не списка, как было раньше."
   ]
  },
  {
   "cell_type": "code",
   "execution_count": 11,
   "metadata": {
    "colab": {
     "base_uri": "https://localhost:8080/"
    },
    "id": "IdHWGrJsuXMP",
    "outputId": "22048639-d5af-41f5-8afb-254db8763c4d",
    "scrolled": true
   },
   "outputs": [
    {
     "name": "stdout",
     "output_type": "stream",
     "text": [
      "Raw text:\n",
      "2         Mathematical Modeller / Simulation Analyst / O...\n",
      "100002    A successful and high achieving specialist sch...\n",
      "200002    Web Designer  HTML, CSS, JavaScript, Photoshop...\n",
      "Name: FullDescription, dtype: object\n"
     ]
    }
   ],
   "source": [
    "print(\"Raw text:\")\n",
    "print(data[\"FullDescription\"][2::100000])"
   ]
  },
  {
   "cell_type": "code",
   "execution_count": 12,
   "metadata": {
    "id": "bSqhm9jiuXMP"
   },
   "outputs": [],
   "source": [
    "def tokenize(text):\n",
    "    reg = re.compile(r'\\w+')\n",
    "    return reg.findall(text.lower())"
   ]
  },
  {
   "cell_type": "code",
   "execution_count": 13,
   "metadata": {},
   "outputs": [
    {
     "name": "stdout",
     "output_type": "stream",
     "text": [
      "['engineering', 'systems', 'analyst']\n"
     ]
    }
   ],
   "source": [
    "for text in data[\"Title\"]:\n",
    "    print(tokenize(text))\n",
    "    break"
   ]
  },
  {
   "cell_type": "code",
   "execution_count": 14,
   "metadata": {
    "id": "BLI7q9UzuXMP"
   },
   "outputs": [],
   "source": [
    "data[\"Title\"] = [\" \".join(tokenize(str(text))) for text in data[\"Title\"]]\n",
    "data[\"FullDescription\"] = [\" \".join(tokenize(str(text))) for text in data[\"FullDescription\"]]"
   ]
  },
  {
   "cell_type": "code",
   "execution_count": 15,
   "metadata": {
    "colab": {
     "base_uri": "https://localhost:8080/"
    },
    "id": "de3owDJcuXMP",
    "outputId": "ba11aad4-7d24-46b8-c4df-da85a0bbae0c"
   },
   "outputs": [
    {
     "name": "stdout",
     "output_type": "stream",
     "text": [
      "Tokenized:\n",
      "2         mathematical modeller simulation analyst opera...\n",
      "100002    a successful and high achieving specialist sch...\n",
      "200002    web designer html css javascript photoshop ill...\n",
      "Name: FullDescription, dtype: object\n"
     ]
    }
   ],
   "source": [
    "print(\"Tokenized:\")\n",
    "print(data[\"FullDescription\"][2::100000])\n",
    "assert data[\"FullDescription\"][2][:50] == 'mathematical modeller simulation analyst operation'\n",
    "assert data[\"Title\"][54321] == 'international digital account manager german'"
   ]
  },
  {
   "cell_type": "markdown",
   "metadata": {
    "id": "xV4-FXa9uXMP"
   },
   "source": [
    "Не все слова одинаково полезны. Некоторые из них встречаются очень редко, и поэтому модель не сможет выучить их значение. При этом эмбеддинги для таких слов к тому же будут занимать место в памяти, что плохо.\n",
    "\n",
    "Давайте посчитаем, сколько раз встречалось каждое слово, и выкинем редкие."
   ]
  },
  {
   "cell_type": "code",
   "execution_count": 16,
   "metadata": {
    "id": "aqysOKrauXMP"
   },
   "outputs": [],
   "source": [
    "from collections import Counter\n",
    "token_counts = Counter()\n",
    "\n",
    "# Count how many times does each token occur in both \"Title\" and \"FullDescription\" in total\n",
    "# your code here\n",
    "for text in data[\"Title\"]:\n",
    "    token_counts.update(text.split())\n",
    "\n",
    "for text in data[\"FullDescription\"]:\n",
    "    token_counts.update(text.split())"
   ]
  },
  {
   "cell_type": "code",
   "execution_count": 17,
   "metadata": {
    "colab": {
     "base_uri": "https://localhost:8080/"
    },
    "id": "kHRi79hjuXMP",
    "outputId": "b917db5a-e5f5-41ab-ad7a-979652caccf6"
   },
   "outputs": [
    {
     "name": "stdout",
     "output_type": "stream",
     "text": [
      "Total unique tokens : 201697\n",
      "('and', 2657388)\n",
      "('the', 2080994)\n",
      "('to', 2019884)\n",
      "('a', 1521925)\n",
      "('of', 1426213)\n",
      "...\n",
      "('stephanietraveltraderecruitmnt', 1)\n",
      "('ruabon', 1)\n",
      "('lowehays', 1)\n",
      "Correct!\n"
     ]
    }
   ],
   "source": [
    "print(\"Total unique tokens :\", len(token_counts))\n",
    "print('\\n'.join(map(str, token_counts.most_common(n=5))))\n",
    "print('...')\n",
    "print('\\n'.join(map(str, token_counts.most_common()[-3:])))\n",
    "\n",
    "assert token_counts.most_common(1)[0][1] in  range(2600000, 2700000)\n",
    "assert len(token_counts) in range(200000, 210000)\n",
    "print('Correct!')"
   ]
  },
  {
   "cell_type": "code",
   "execution_count": 18,
   "metadata": {
    "colab": {
     "base_uri": "https://localhost:8080/",
     "height": 449
    },
    "id": "hq85m2W3uXMQ",
    "outputId": "e155b596-0e5f-472b-9b28-875ef3d3aa91"
   },
   "outputs": [
    {
     "data": {
      "image/png": "[encoded data removed]",
      "text/plain": [
       "<Figure size 640x480 with 1 Axes>"
      ]
     },
     "metadata": {},
     "output_type": "display_data"
    }
   ],
   "source": [
    "# Let's see how many words are there for each count\n",
    "plt.hist(list(token_counts.values()), range=[0, 10**4], bins=50, log=True)\n",
    "plt.xlabel(\"Word counts\")\n",
    "plt.show()"
   ]
  },
  {
   "cell_type": "markdown",
   "metadata": {
    "id": "0MsirdoMuXMQ"
   },
   "source": [
    "Создайте список уникальных токенов, которые встречались не меньше 10 раз, и отсортируйте их по частоте встречания."
   ]
  },
  {
   "cell_type": "code",
   "execution_count": 19,
   "metadata": {
    "id": "jPkRQr6vuXMQ"
   },
   "outputs": [],
   "source": [
    "min_count = 10\n",
    "\n",
    "# tokens from token_counts keys that had at least min_count occurrences throughout the dataset\n",
    "tokens = [word for word, count in token_counts.most_common() if count >= min_count]\n",
    "\n",
    "# Add a special tokens for unknown and empty words\n",
    "UNK, PAD = \"UNK\", \"PAD\"\n",
    "tokens = [UNK, PAD] + tokens"
   ]
  },
  {
   "cell_type": "code",
   "execution_count": 20,
   "metadata": {
    "colab": {
     "base_uri": "https://localhost:8080/"
    },
    "id": "xv1BIzLeuXMQ",
    "outputId": "d85ea940-cfef-4e13-eaad-2555456d3554"
   },
   "outputs": [
    {
     "name": "stdout",
     "output_type": "stream",
     "text": [
      "Vocabulary size: 33816\n",
      "Correct!\n"
     ]
    }
   ],
   "source": [
    "print(\"Vocabulary size:\", len(tokens))\n",
    "assert type(tokens) == list\n",
    "assert len(tokens) in range(32000, 35000)\n",
    "assert 'me' in tokens\n",
    "assert UNK in tokens\n",
    "print(\"Correct!\")"
   ]
  },
  {
   "cell_type": "markdown",
   "metadata": {
    "id": "RSPgyqALuXMQ"
   },
   "source": [
    "Создайте словарь _\\{токен: индекс\\}_ для всех токенов из списка."
   ]
  },
  {
   "cell_type": "code",
   "execution_count": 21,
   "metadata": {
    "id": "r0oeviYyuXMQ"
   },
   "outputs": [],
   "source": [
    "token_to_id = {word: i for i, word in enumerate(tokens)}"
   ]
  },
  {
   "cell_type": "code",
   "execution_count": 22,
   "metadata": {
    "colab": {
     "base_uri": "https://localhost:8080/"
    },
    "id": "4cupERUguXMQ",
    "outputId": "fbf3c8e1-d0d7-405b-b5dc-b73d9b8068a7"
   },
   "outputs": [
    {
     "name": "stdout",
     "output_type": "stream",
     "text": [
      "Correct!\n"
     ]
    }
   ],
   "source": [
    "assert isinstance(token_to_id, dict)\n",
    "assert len(token_to_id) == len(tokens)\n",
    "for tok in tokens:\n",
    "    assert tokens[token_to_id[tok]] == tok\n",
    "\n",
    "print(\"Correct!\")"
   ]
  },
  {
   "cell_type": "markdown",
   "metadata": {
    "id": "gb4-D9sYuXMQ"
   },
   "source": [
    "Эта функция кодирует набор текстов в виде матрицы из индексов токенов, добавляя паддинги к коротким текстам."
   ]
  },
  {
   "cell_type": "code",
   "execution_count": 23,
   "metadata": {
    "id": "BAzCdsIHuXMQ"
   },
   "outputs": [],
   "source": [
    "UNK_IDX, PAD_IDX = token_to_id[UNK], token_to_id[PAD]\n",
    "\n",
    "\n",
    "def as_matrix(sequences, max_len=None):\n",
    "    \"\"\" Convert a list of tokens into a matrix with padding \"\"\"\n",
    "    if isinstance(sequences[0], str):\n",
    "        sequences = [x.split() for x in sequences]\n",
    "\n",
    "    max_sequence_len = max([len(x) for x in sequences])\n",
    "    if max_len is not None and max_len < max_sequence_len:\n",
    "        max_sequence_len = max_len\n",
    "\n",
    "    matrix = np.full((len(sequences), max_sequence_len), np.int32(PAD_IDX))\n",
    "    for i, seq in enumerate(sequences):\n",
    "        row_ix = [token_to_id.get(word, UNK_IDX) for word in seq[:max_sequence_len]]\n",
    "        matrix[i, :len(row_ix)] = row_ix\n",
    "\n",
    "    return matrix"
   ]
  },
  {
   "cell_type": "code",
   "execution_count": 24,
   "metadata": {
    "colab": {
     "base_uri": "https://localhost:8080/"
    },
    "id": "fV1guJQMuXMQ",
    "outputId": "09257f67-9f38-4645-f1f4-99d57241ac3d"
   },
   "outputs": [
    {
     "name": "stdout",
     "output_type": "stream",
     "text": [
      "Lines:\n",
      "engineering systems analyst\n",
      "hr assistant\n",
      "senior ec i engineer\n",
      "\n",
      "Matrix:\n",
      "[[ 124  105  256    1]\n",
      " [ 297  223    1    1]\n",
      " [  91 4069  373   74]]\n"
     ]
    }
   ],
   "source": [
    "print(\"Lines:\")\n",
    "print('\\n'.join(data[\"Title\"][::100000].values), end='\\n\\n')\n",
    "print(\"Matrix:\")\n",
    "print(as_matrix(data[\"Title\"][::100000]))"
   ]
  },
  {
   "cell_type": "markdown",
   "metadata": {
    "id": "LatZpNBCuXMQ"
   },
   "source": [
    "### Категориальные данные\n",
    "\n",
    "Для кодирования категориальных признаков мы будем использовать one-hot-encoding. Это не лучшая идея в данном случае, так как различных значений у признаков много. Однако, реализацию более сложных методов мы оставим для вас.\n"
   ]
  },
  {
   "cell_type": "code",
   "execution_count": 25,
   "metadata": {},
   "outputs": [
    {
     "data": {
      "text/html": [
       "<div>\n",
       "<style scoped>\n",
       "    .dataframe tbody tr th:only-of-type {\n",
       "        vertical-align: middle;\n",
       "    }\n",
       "\n",
       "    .dataframe tbody tr th {\n",
       "        vertical-align: top;\n",
       "    }\n",
       "\n",
       "    .dataframe thead th {\n",
       "        text-align: right;\n",
       "    }\n",
       "</style>\n",
       "<table border=\"1\" class=\"dataframe\">\n",
       "  <thead>\n",
       "    <tr style=\"text-align: right;\">\n",
       "      <th></th>\n",
       "      <th>Id</th>\n",
       "      <th>Title</th>\n",
       "      <th>FullDescription</th>\n",
       "      <th>LocationRaw</th>\n",
       "      <th>LocationNormalized</th>\n",
       "      <th>ContractType</th>\n",
       "      <th>ContractTime</th>\n",
       "      <th>Company</th>\n",
       "      <th>Category</th>\n",
       "      <th>SalaryRaw</th>\n",
       "      <th>SalaryNormalized</th>\n",
       "      <th>SourceName</th>\n",
       "      <th>Log1pSalary</th>\n",
       "    </tr>\n",
       "  </thead>\n",
       "  <tbody>\n",
       "    <tr>\n",
       "      <th>0</th>\n",
       "      <td>12612628</td>\n",
       "      <td>engineering systems analyst</td>\n",
       "      <td>engineering systems analyst dorking surrey sal...</td>\n",
       "      <td>Dorking, Surrey, Surrey</td>\n",
       "      <td>Dorking</td>\n",
       "      <td>NaN</td>\n",
       "      <td>permanent</td>\n",
       "      <td>Gregory Martin International</td>\n",
       "      <td>Engineering Jobs</td>\n",
       "      <td>20000 - 30000/annum 20-30K</td>\n",
       "      <td>25000</td>\n",
       "      <td>cv-library.co.uk</td>\n",
       "      <td>10.126671</td>\n",
       "    </tr>\n",
       "    <tr>\n",
       "      <th>1</th>\n",
       "      <td>12612830</td>\n",
       "      <td>stress engineer glasgow</td>\n",
       "      <td>stress engineer glasgow salary to we re curren...</td>\n",
       "      <td>Glasgow, Scotland, Scotland</td>\n",
       "      <td>Glasgow</td>\n",
       "      <td>NaN</td>\n",
       "      <td>permanent</td>\n",
       "      <td>Gregory Martin International</td>\n",
       "      <td>Engineering Jobs</td>\n",
       "      <td>25000 - 35000/annum 25-35K</td>\n",
       "      <td>30000</td>\n",
       "      <td>cv-library.co.uk</td>\n",
       "      <td>10.308986</td>\n",
       "    </tr>\n",
       "    <tr>\n",
       "      <th>2</th>\n",
       "      <td>12612844</td>\n",
       "      <td>modelling and simulation analyst</td>\n",
       "      <td>mathematical modeller simulation analyst opera...</td>\n",
       "      <td>Hampshire, South East, South East</td>\n",
       "      <td>Hampshire</td>\n",
       "      <td>NaN</td>\n",
       "      <td>permanent</td>\n",
       "      <td>Gregory Martin International</td>\n",
       "      <td>Engineering Jobs</td>\n",
       "      <td>20000 - 40000/annum 20-40K</td>\n",
       "      <td>30000</td>\n",
       "      <td>cv-library.co.uk</td>\n",
       "      <td>10.308986</td>\n",
       "    </tr>\n",
       "  </tbody>\n",
       "</table>\n",
       "</div>"
      ],
      "text/plain": [
       "         Id                             Title  \\\n",
       "0  12612628       engineering systems analyst   \n",
       "1  12612830           stress engineer glasgow   \n",
       "2  12612844  modelling and simulation analyst   \n",
       "\n",
       "                                     FullDescription  \\\n",
       "0  engineering systems analyst dorking surrey sal...   \n",
       "1  stress engineer glasgow salary to we re curren...   \n",
       "2  mathematical modeller simulation analyst opera...   \n",
       "\n",
       "                         LocationRaw LocationNormalized ContractType  \\\n",
       "0            Dorking, Surrey, Surrey            Dorking          NaN   \n",
       "1        Glasgow, Scotland, Scotland            Glasgow          NaN   \n",
       "2  Hampshire, South East, South East          Hampshire          NaN   \n",
       "\n",
       "  ContractTime                       Company          Category  \\\n",
       "0    permanent  Gregory Martin International  Engineering Jobs   \n",
       "1    permanent  Gregory Martin International  Engineering Jobs   \n",
       "2    permanent  Gregory Martin International  Engineering Jobs   \n",
       "\n",
       "                    SalaryRaw  SalaryNormalized        SourceName  Log1pSalary  \n",
       "0  20000 - 30000/annum 20-30K             25000  cv-library.co.uk    10.126671  \n",
       "1  25000 - 35000/annum 25-35K             30000  cv-library.co.uk    10.308986  \n",
       "2  20000 - 40000/annum 20-40K             30000  cv-library.co.uk    10.308986  "
      ]
     },
     "execution_count": 25,
     "metadata": {},
     "output_type": "execute_result"
    }
   ],
   "source": [
    "data.head(3)"
   ]
  },
  {
   "cell_type": "code",
   "execution_count": 26,
   "metadata": {},
   "outputs": [
    {
     "data": {
      "text/plain": [
       "(244768, 13)"
      ]
     },
     "execution_count": 26,
     "metadata": {},
     "output_type": "execute_result"
    }
   ],
   "source": [
    "data.shape"
   ]
  },
  {
   "cell_type": "code",
   "execution_count": 27,
   "metadata": {},
   "outputs": [
    {
     "data": {
      "text/plain": [
       "0         {'Company': 'Gregory Martin International', 'C...\n",
       "1         {'Company': 'Gregory Martin International', 'C...\n",
       "2         {'Company': 'Gregory Martin International', 'C...\n",
       "3         {'Company': 'Gregory Martin International', 'C...\n",
       "4         {'Company': 'Gregory Martin International', 'C...\n",
       "                                ...                        \n",
       "244763            {'Company': 'NaN', 'ContractType': 'NaN'}\n",
       "244764            {'Company': 'NaN', 'ContractType': 'NaN'}\n",
       "244765            {'Company': 'NaN', 'ContractType': 'NaN'}\n",
       "244766            {'Company': 'NaN', 'ContractType': 'NaN'}\n",
       "244767            {'Company': 'NaN', 'ContractType': 'NaN'}\n",
       "Length: 244768, dtype: object"
      ]
     },
     "execution_count": 27,
     "metadata": {},
     "output_type": "execute_result"
    }
   ],
   "source": [
    "data[[\"Company\", \"ContractType\"]].apply(dict, axis=1)"
   ]
  },
  {
   "cell_type": "code",
   "execution_count": 28,
   "metadata": {
    "colab": {
     "base_uri": "https://localhost:8080/",
     "height": 74
    },
    "id": "u_kIHSyPuXMR",
    "outputId": "13bcc2ec-c102-4de2-bd74-0b594e811d4f"
   },
   "outputs": [
    {
     "data": {
      "text/html": [
       "<style>#sk-container-id-1 {color: black;}#sk-container-id-1 pre{padding: 0;}#sk-container-id-1 div.sk-toggleable {background-color: white;}#sk-container-id-1 label.sk-toggleable__label {cursor: pointer;display: block;width: 100%;margin-bottom: 0;padding: 0.3em;box-sizing: border-box;text-align: center;}#sk-container-id-1 label.sk-toggleable__label-arrow:before {content: \"▸\";float: left;margin-right: 0.25em;color: #696969;}#sk-container-id-1 label.sk-toggleable__label-arrow:hover:before {color: black;}#sk-container-id-1 div.sk-estimator:hover label.sk-toggleable__label-arrow:before {color: black;}#sk-container-id-1 div.sk-toggleable__content {max-height: 0;max-width: 0;overflow: hidden;text-align: left;background-color: #f0f8ff;}#sk-container-id-1 div.sk-toggleable__content pre {margin: 0.2em;color: black;border-radius: 0.25em;background-color: #f0f8ff;}#sk-container-id-1 input.sk-toggleable__control:checked~div.sk-toggleable__content {max-height: 200px;max-width: 100%;overflow: auto;}#sk-container-id-1 input.sk-toggleable__control:checked~label.sk-toggleable__label-arrow:before {content: \"▾\";}#sk-container-id-1 div.sk-estimator input.sk-toggleable__control:checked~label.sk-toggleable__label {background-color: #d4ebff;}#sk-container-id-1 div.sk-label input.sk-toggleable__control:checked~label.sk-toggleable__label {background-color: #d4ebff;}#sk-container-id-1 input.sk-hidden--visually {border: 0;clip: rect(1px 1px 1px 1px);clip: rect(1px, 1px, 1px, 1px);height: 1px;margin: -1px;overflow: hidden;padding: 0;position: absolute;width: 1px;}#sk-container-id-1 div.sk-estimator {font-family: monospace;background-color: #f0f8ff;border: 1px dotted black;border-radius: 0.25em;box-sizing: border-box;margin-bottom: 0.5em;}#sk-container-id-1 div.sk-estimator:hover {background-color: #d4ebff;}#sk-container-id-1 div.sk-parallel-item::after {content: \"\";width: 100%;border-bottom: 1px solid gray;flex-grow: 1;}#sk-container-id-1 div.sk-label:hover label.sk-toggleable__label {background-color: #d4ebff;}#sk-container-id-1 div.sk-serial::before {content: \"\";position: absolute;border-left: 1px solid gray;box-sizing: border-box;top: 0;bottom: 0;left: 50%;z-index: 0;}#sk-container-id-1 div.sk-serial {display: flex;flex-direction: column;align-items: center;background-color: white;padding-right: 0.2em;padding-left: 0.2em;position: relative;}#sk-container-id-1 div.sk-item {position: relative;z-index: 1;}#sk-container-id-1 div.sk-parallel {display: flex;align-items: stretch;justify-content: center;background-color: white;position: relative;}#sk-container-id-1 div.sk-item::before, #sk-container-id-1 div.sk-parallel-item::before {content: \"\";position: absolute;border-left: 1px solid gray;box-sizing: border-box;top: 0;bottom: 0;left: 50%;z-index: -1;}#sk-container-id-1 div.sk-parallel-item {display: flex;flex-direction: column;z-index: 1;position: relative;background-color: white;}#sk-container-id-1 div.sk-parallel-item:first-child::after {align-self: flex-end;width: 50%;}#sk-container-id-1 div.sk-parallel-item:last-child::after {align-self: flex-start;width: 50%;}#sk-container-id-1 div.sk-parallel-item:only-child::after {width: 0;}#sk-container-id-1 div.sk-dashed-wrapped {border: 1px dashed gray;margin: 0 0.4em 0.5em 0.4em;box-sizing: border-box;padding-bottom: 0.4em;background-color: white;}#sk-container-id-1 div.sk-label label {font-family: monospace;font-weight: bold;display: inline-block;line-height: 1.2em;}#sk-container-id-1 div.sk-label-container {text-align: center;}#sk-container-id-1 div.sk-container {/* jupyter's `normalize.less` sets `[hidden] { display: none; }` but bootstrap.min.css set `[hidden] { display: none !important; }` so we also need the `!important` here to be able to override the default hidden behavior on the sphinx rendered scikit-learn.org. See: https://github.com/scikit-learn/scikit-learn/issues/21755 */display: inline-block !important;position: relative;}#sk-container-id-1 div.sk-text-repr-fallback {display: none;}</style><div id=\"sk-container-id-1\" class=\"sk-top-container\"><div class=\"sk-text-repr-fallback\"><pre>DictVectorizer(dtype=&lt;class &#x27;numpy.float32&#x27;&gt;, sparse=False)</pre><b>In a Jupyter environment, please rerun this cell to show the HTML representation or trust the notebook. <br />On GitHub, the HTML representation is unable to render, please try loading this page with nbviewer.org.</b></div><div class=\"sk-container\" hidden><div class=\"sk-item\"><div class=\"sk-estimator sk-toggleable\"><input class=\"sk-toggleable__control sk-hidden--visually\" id=\"sk-estimator-id-1\" type=\"checkbox\" checked><label for=\"sk-estimator-id-1\" class=\"sk-toggleable__label sk-toggleable__label-arrow\">DictVectorizer</label><div class=\"sk-toggleable__content\"><pre>DictVectorizer(dtype=&lt;class &#x27;numpy.float32&#x27;&gt;, sparse=False)</pre></div></div></div></div></div>"
      ],
      "text/plain": [
       "DictVectorizer(dtype=<class 'numpy.float32'>, sparse=False)"
      ]
     },
     "execution_count": 28,
     "metadata": {},
     "output_type": "execute_result"
    }
   ],
   "source": [
    "from sklearn.feature_extraction import DictVectorizer\n",
    "\n",
    "# we only consider top-1k most frequent companies to minimize memory usage\n",
    "top_companies, top_counts = zip(*Counter(data['Company']).most_common(1000))\n",
    "recognized_companies = set(top_companies)\n",
    "data[\"Company\"] = data[\"Company\"].apply(lambda comp: comp if comp in recognized_companies else \"Other\")\n",
    "\n",
    "categorical_vectorizer = DictVectorizer(dtype=np.float32, sparse=False)\n",
    "categorical_vectorizer.fit(data[categorical_columns].apply(dict, axis=1))"
   ]
  },
  {
   "cell_type": "code",
   "execution_count": 29,
   "metadata": {
    "colab": {
     "base_uri": "https://localhost:8080/"
    },
    "id": "3wpyNj5tuXMR",
    "outputId": "57d1c944-6925-41c1-85ec-08bdba70f40d"
   },
   "outputs": [
    {
     "data": {
      "text/plain": [
       "{'Category': 'Engineering Jobs',\n",
       " 'Company': 'Gregory Martin International',\n",
       " 'LocationNormalized': 'Dorking',\n",
       " 'ContractType': 'NaN',\n",
       " 'ContractTime': 'permanent'}"
      ]
     },
     "execution_count": 29,
     "metadata": {},
     "output_type": "execute_result"
    }
   ],
   "source": [
    "data[categorical_columns].apply(dict, axis=1)[0]"
   ]
  },
  {
   "cell_type": "markdown",
   "metadata": {
    "id": "dktNJwZruXMR"
   },
   "source": [
    "### Обучение модели\n",
    "\n",
    "Мы проделали все подготовительные шаги, а значит, самое время обучить нейронную сеть.\n",
    "\n",
    "Стоит отметить, что мы немного схалтурили. Во-первых, мы не будем выделять валидационную выборку, так как не будем особо стараться улучшать модель. Во-вторых, для токенизации и сбора словаря мы использовали все данные, а не только тренировочные, как это надо делать. При желании, вы можете поправить эти неточности и посмотреть, как будет меняться результат."
   ]
  },
  {
   "cell_type": "code",
   "execution_count": 30,
   "metadata": {
    "colab": {
     "base_uri": "https://localhost:8080/"
    },
    "id": "kqfRmAS1uXMR",
    "outputId": "9e88c758-2b62-4600-a763-5b6503bd2b25"
   },
   "outputs": [
    {
     "name": "stdout",
     "output_type": "stream",
     "text": [
      "Train size =  195814\n",
      "Validation size =  48954\n"
     ]
    }
   ],
   "source": [
    "from sklearn.model_selection import train_test_split\n",
    "\n",
    "data_train, data_val = train_test_split(data, test_size=0.2, random_state=42)\n",
    "data_train.index = range(len(data_train))\n",
    "data_val.index = range(len(data_val))\n",
    "\n",
    "print(\"Train size = \", len(data_train))\n",
    "print(\"Validation size = \", len(data_val))"
   ]
  },
  {
   "cell_type": "code",
   "execution_count": 31,
   "metadata": {
    "id": "s04YFg77uXMR"
   },
   "outputs": [],
   "source": [
    "import torch\n",
    "import torch.nn as nn\n",
    "import torch.functional as F\n",
    "\n",
    "\n",
    "device = 'cuda' if torch.cuda.is_available() else 'cpu'\n",
    "\n",
    "\n",
    "def to_tensors(batch, device):\n",
    "    batch_tensors = dict()\n",
    "    for key, arr in batch.items():\n",
    "        if key in [\"FullDescription\", \"Title\"]:\n",
    "            batch_tensors[key] = torch.tensor(arr, device=device, dtype=torch.int64)\n",
    "        else:\n",
    "            batch_tensors[key] = torch.tensor(arr, device=device)\n",
    "    return batch_tensors\n",
    "\n",
    "\n",
    "def apply_word_dropout(matrix, keep_prop, replace_with=UNK_IDX, pad_ix=PAD_IDX,):\n",
    "    dropout_mask = np.random.choice(2, np.shape(matrix), p=[keep_prop, 1 - keep_prop])\n",
    "    dropout_mask &= matrix != pad_ix\n",
    "    return np.choose(dropout_mask, [matrix, np.full_like(matrix, replace_with)])\n",
    "\n",
    "\n",
    "def make_batch(data, max_len=None, word_dropout=0, device=device):\n",
    "    \"\"\"\n",
    "    Creates a keras-friendly dict from the batch data.\n",
    "    :param word_dropout: replaces token index with UNK_IDX with this probability\n",
    "    :returns: a dict with {\n",
    "        'Title' : int64[batch, title_max_len],\n",
    "        'FullDescription' : int64[batch, descr_max_len],\n",
    "        'Categorical' : float32[batch, ohe_len],\n",
    "        'Log1pSalary' : float32[batch]\n",
    "    }\n",
    "    \"\"\"\n",
    "    batch = {}\n",
    "    batch[\"Title\"] = as_matrix(data[\"Title\"].values, max_len)\n",
    "    batch[\"FullDescription\"] = as_matrix(data[\"FullDescription\"].values, max_len)\n",
    "    batch['Categorical'] = categorical_vectorizer.transform(data[categorical_columns].apply(dict, axis=1))\n",
    "\n",
    "    if word_dropout > 0:\n",
    "        batch[\"FullDescription\"] = apply_word_dropout(batch[\"FullDescription\"], 1. - word_dropout)\n",
    "\n",
    "    if TARGET_COLUMN in data.columns:\n",
    "        batch[TARGET_COLUMN] = data[TARGET_COLUMN].values\n",
    "\n",
    "    return to_tensors(batch, device)"
   ]
  },
  {
   "cell_type": "code",
   "execution_count": 32,
   "metadata": {
    "colab": {
     "base_uri": "https://localhost:8080/"
    },
    "id": "_8VRs-UMuXMR",
    "outputId": "1a120087-dfe5-477e-f75e-7cc08ebfad5d",
    "scrolled": true
   },
   "outputs": [
    {
     "data": {
      "text/plain": [
       "{'Title': tensor([[   91,    45,   695,     1,     1,     1],\n",
       "         [ 2075,  3735,  5221,     7,  1367, 20789],\n",
       "         [ 2866,    26,   332, 12149, 12825,     1]], device='cuda:0'),\n",
       " 'FullDescription': tensor([[   91,    45,   695,  2668,     5,    91,    45,   695,    13,  2668],\n",
       "         [ 2075,  3735,  5221,     7,  1367, 20789,   951,    64,  1982,    50],\n",
       "         [    3,    52,   176,    36,    13,   156,   266,     5,    26,   332]],\n",
       "        device='cuda:0'),\n",
       " 'Categorical': tensor([[0., 0., 0.,  ..., 0., 0., 0.],\n",
       "         [0., 0., 0.,  ..., 0., 0., 0.],\n",
       "         [0., 0., 0.,  ..., 0., 0., 0.]], device='cuda:0'),\n",
       " 'Log1pSalary': tensor([ 9.7115, 10.4631, 10.7144], device='cuda:0')}"
      ]
     },
     "execution_count": 32,
     "metadata": {},
     "output_type": "execute_result"
    }
   ],
   "source": [
    "tmp = make_batch(data_train[:3], max_len=10)\n",
    "tmp"
   ]
  },
  {
   "cell_type": "markdown",
   "metadata": {
    "id": "dvIcZdD4uXMR"
   },
   "source": [
    "#### Архитектура\n",
    "\n",
    "Наша модель будет состоять из трех веток:\n",
    "* Кодировщик заголовка\n",
    "* Кодировщик описания\n",
    "* Кодировщик категориальных признаков\n",
    "\n",
    "Выходы всех трех веток будут конкатенироваться и затем преобразовываться в скаляр с помощью полносвязного слоя.\n",
    "\n",
    "![scheme](https://github.com/yandexdataschool/nlp_course/raw/master/resources/w2_conv_arch.png)"
   ]
  },
  {
   "cell_type": "code",
   "execution_count": 33,
   "metadata": {},
   "outputs": [
    {
     "data": {
      "text/plain": [
       "(33816, 3768)"
      ]
     },
     "execution_count": 33,
     "metadata": {},
     "output_type": "execute_result"
    }
   ],
   "source": [
    "len(tokens), len(categorical_vectorizer.vocabulary_)"
   ]
  },
  {
   "cell_type": "code",
   "execution_count": 34,
   "metadata": {},
   "outputs": [
    {
     "data": {
      "text/plain": [
       "{'Title': tensor([[   91,    45,   695,     1,     1,     1],\n",
       "         [ 2075,  3735,  5221,     7,  1367, 20789],\n",
       "         [ 2866,    26,   332, 12149, 12825,     1]], device='cuda:0'),\n",
       " 'FullDescription': tensor([[   91,    45,   695,  2668,     5,    91,    45,   695,    13,  2668],\n",
       "         [ 2075,  3735,  5221,     7,  1367, 20789,   951,    64,  1982,    50],\n",
       "         [    3,    52,   176,    36,    13,   156,   266,     5,    26,   332]],\n",
       "        device='cuda:0'),\n",
       " 'Categorical': tensor([[0., 0., 0.,  ..., 0., 0., 0.],\n",
       "         [0., 0., 0.,  ..., 0., 0., 0.],\n",
       "         [0., 0., 0.,  ..., 0., 0., 0.]], device='cuda:0'),\n",
       " 'Log1pSalary': tensor([ 9.7115, 10.4631, 10.7144], device='cuda:0')}"
      ]
     },
     "execution_count": 34,
     "metadata": {},
     "output_type": "execute_result"
    }
   ],
   "source": [
    "tmp"
   ]
  },
  {
   "cell_type": "code",
   "execution_count": 89,
   "metadata": {
    "id": "_l2aVATYuXMR"
   },
   "outputs": [],
   "source": [
    "class SalaryPredictor(nn.Module):\n",
    "    def __init__(self, n_tokens=len(tokens), n_cat_features=len(categorical_vectorizer.vocabulary_), hid_size=64):\n",
    "        super().__init__()\n",
    "\n",
    "        self.embendding = nn.Embedding(num_embeddings=n_tokens, embedding_dim=hid_size)\n",
    "\n",
    "        self.title_conv = nn.Conv1d(in_channels=hid_size, out_channels=hid_size, kernel_size=3)\n",
    "        self.descr_conv = nn.Conv1d(in_channels=hid_size, out_channels=hid_size, kernel_size=3)\n",
    "\n",
    "        self.ctg_fc = nn.Linear(in_features=n_cat_features, out_features=hid_size)\n",
    "\n",
    "        self.out_fc = nn.Linear(in_features=(3 * hid_size), out_features=1)\n",
    "        \n",
    "\n",
    "    def forward(self, batch):\n",
    "        title_emb = self.embendding(batch[\"Title\"])             # batch_size, seq_len, hid_size\n",
    "        descr_emb = self.embendding(batch[\"FullDescription\"])   # batch_size, seq_len, hid_size\n",
    "\n",
    "        self.title_emb = title_emb.transpose(1,2)               # batch_size, hid_size, seq_len\n",
    "        self.descr_emb = descr_emb.transpose(1,2)\n",
    "\n",
    "        self.title = self.title_conv(self.title_emb)            # batch_size, hid_size, seq_len - 2\n",
    "        self.descr = self.descr_conv(self.descr_emb)\n",
    "\n",
    "        self.title = self.title.mean(axis=2)                    # batch_size, hid_size\n",
    "        self.descr = self.descr.mean(axis=2)                    # batch_size, hid_size\n",
    "        self.categ = self.ctg_fc(batch[\"Categorical\"])          # batch_size, hid_size\n",
    "\n",
    "        res = torch.hstack([self.title, self.descr, self.categ])# batch_size, hid_size * 3\n",
    "\n",
    "        return torch.squeeze(self.out_fc(res))\n"
   ]
  },
  {
   "cell_type": "code",
   "execution_count": 90,
   "metadata": {
    "id": "v34OoZ7XuXMR"
   },
   "outputs": [],
   "source": [
    "model = SalaryPredictor().to(device)\n",
    "batch = make_batch(data_train[:100])\n",
    "criterion = nn.MSELoss()\n",
    "\n",
    "dummy_pred = model(batch)\n",
    "dummy_loss = criterion(dummy_pred, batch[TARGET_COLUMN])\n",
    "assert dummy_pred.shape == torch.Size([100])\n",
    "assert len(torch.unique(dummy_pred)) > 20, \"model returns suspiciously few unique outputs. Check your initialization\"\n",
    "assert dummy_loss.ndim == 0 and 0. <= dummy_loss <= 250., \"make sure you minimize MSE\""
   ]
  },
  {
   "cell_type": "markdown",
   "metadata": {
    "id": "_95IVgwTuXMR"
   },
   "source": [
    "#### Обучение и валидация\n",
    "\n",
    "Создадим функцию для бесконечной подачи батчей данных."
   ]
  },
  {
   "cell_type": "code",
   "execution_count": 91,
   "metadata": {
    "id": "FGrttZVfuXMa"
   },
   "outputs": [],
   "source": [
    "def iterate_minibatches(data, batch_size=256, shuffle=True, cycle=False, device=device):\n",
    "    \"\"\" iterates minibatches of data in random order \"\"\"\n",
    "    while True:\n",
    "        indices = np.arange(len(data))\n",
    "        if shuffle:\n",
    "            indices = np.random.permutation(indices)\n",
    "\n",
    "        for start in range(0, len(indices), batch_size):\n",
    "            batch = make_batch(data.iloc[indices[start : start + batch_size]], device=device)\n",
    "            yield batch\n",
    "\n",
    "        if not cycle:\n",
    "            break"
   ]
  },
  {
   "cell_type": "markdown",
   "metadata": {
    "id": "ARpSckQRxZEc"
   },
   "source": [
    "Во время обучения мы будем логировать не только значение ошибки на валидации (зарплата у нас в логарифмической шкале, поэтому такую ошибку сложно интерпретировать), но и стандартное отклонение ошибки предсказания зарплаты в долларах."
   ]
  },
  {
   "cell_type": "code",
   "execution_count": 93,
   "metadata": {
    "id": "hJHJdPXhuXMa"
   },
   "outputs": [],
   "source": [
    "BATCH_SIZE = 32\n",
    "\n",
    "@torch.no_grad()\n",
    "def print_metrics(model, data, batch_size=BATCH_SIZE, name='', device=torch.device('cpu')):\n",
    "    squared_error = mse_exp_loss = num_samples = 0.0\n",
    "    model.eval()\n",
    "\n",
    "    mse_loss = nn.MSELoss(reduction='sum')\n",
    "\n",
    "    for batch in iterate_minibatches(data, batch_size=batch_size, shuffle=False, device=device):\n",
    "        batch_pred = model(batch)\n",
    "        squared_error += mse_loss(batch_pred, batch[TARGET_COLUMN]).item()\n",
    "        mse_exp_loss += mse_loss(torch.expm1(batch_pred), torch.expm1(batch[TARGET_COLUMN])).item()\n",
    "        num_samples += len(batch_pred)\n",
    "\n",
    "    mse = squared_error / num_samples\n",
    "    salary_pred_std = mse_exp_loss**0.5 / num_samples\n",
    "\n",
    "    print(f'Mean square error: {round(mse, 4)}')\n",
    "    print(f'Std of salary prediction error: {round(salary_pred_std, 4)}')\n",
    "\n",
    "    return mse, salary_pred_std"
   ]
  },
  {
   "cell_type": "markdown",
   "metadata": {
    "id": "gya7hTXWuXMa"
   },
   "source": [
    "### Обучение модели\n",
    "\n",
    "Тут мы снова не будем слишком избирательны при выборе оптимизатора, расписания скорости обучения и гиперпараметров. Возьмем все самое простое, а при желании вы можете попробовать улучшить наш результат."
   ]
  },
  {
   "cell_type": "code",
   "execution_count": 94,
   "metadata": {
    "colab": {
     "base_uri": "https://localhost:8080/",
     "height": 454,
     "referenced_widgets": [
      "76905ac44264454fb1880f59e0d6f271",
      "c891d0af2a6946009db858c9ec98d3a1",
      "09b33174cc1545c58b4e1fdbcb61fc97",
      "22f29830dd5b49d7bd369b0452ea2138",
      "581c452f3bbc4eaba78b6c312e524124",
      "3bc5440ffea940bc879895e3975ffd27",
      "0a231bc0f5744d799ec2eb21538c7475",
      "38952edf953849c6b0d9079e85dfbfa1",
      "871194afc27d4f9bbbe43858d7d788e4",
      "bd7d60c60eb14db39e4e82b2d309cb72",
      "a7fb909097af4a8eb7ded942c3b0f688",
      "947a9e20d7d54666b51bceebd8fac4d1",
      "f4f5fd6bfa1e4a9b8db2a3a2baf1330a",
      "49f63a0a54c546b98ca0f1363508ea8d",
      "ae76774099db48549376256139f7ff29",
      "6b58d25800954bb7a69d5d44442c0f17",
      "38b2791ac6e74ec28d5b497ed464b1e7",
      "5187f6a52b4944eb830be4029cab74e2",
      "c8742f0927274f2d8a0deadf40e58f28",
      "ef1eaf6aa4ad43eb8af06775f762f31c",
      "d3ca45bb799d4cfaaeaa7efa69aab106",
      "6189596611a440c4a1042ba265e8a34e",
      "a7188ebde28241c694e501121ecc3f8a",
      "790e80cb99c24293a1cfb64804b23b0a",
      "7859228813094b7fa4dd53b6ca41d458",
      "40041e6bdb7043e9a2030d5f1debe878",
      "fae6f97c290a48eaa2be15f521acd45b",
      "6f03f29668a8401b885338319dd9a681",
      "a23f475aaafd48b2a87a6047bfbc39e6",
      "a7bb293965d94d488664b6fb7290ead4",
      "dd03c2a1fcb247efb279243cdd0f454a",
      "8c76fe881c2741ceb1a9f11680091240",
      "6c2695c6cb564a74a36a99f9dcc8580b",
      "0cb4bd6bbe944ae88eff9733f2796699",
      "b00a4f5e8c7c4ea3829443e7ceee79fc",
      "d6bc359288c1481abba36661bce52892",
      "b26e8403ae9c43fa9a847fa9ab67f53b",
      "1fbc9abf60ef4ef59e9795486618f2c7",
      "c44cab0d828b475396873cf738ef16fc",
      "fd736eef281c40d9ac3e0c958e083887",
      "b214ec84efde46d792ff323a1488a079",
      "99e42b716f8e4e599699b6116571780b",
      "cc64ff02dd524a9e988487893730a3c6",
      "423639141cef483e8a8bd0ce57a39828",
      "ee5442849a22475a8dfabec35fe90ab9",
      "b37db1967b304f18ac8014de6c52e208",
      "4a066717312949749a7de4c1b2a7d58b",
      "bfdaa0b250ec4045a51c0a220e7d2934",
      "a6124e02aa8d48afa4eb8d9238db18bc",
      "9103da34bec44e3a9ac0a5cb752e5125",
      "3de647bba6a94213b29d9f77c4ffe5b1",
      "6ce32f68ce8a494ea20f75136f921fec",
      "402224c78991479e946dd1646b670388",
      "cd8de4a6c133450cabda0271ffe3f220",
      "095c00c08f6d4d638ff986b700c9db2e"
     ]
    },
    "id": "pJECiBd4uXMa",
    "outputId": "add6bcc6-c27e-4ba8-f5ea-a65fdb416ad2"
   },
   "outputs": [
    {
     "name": "stdout",
     "output_type": "stream",
     "text": [
      "epoch: 0\n"
     ]
    },
    {
     "data": {
      "application/vnd.jupyter.widget-view+json": {
       "model_id": "4c1ddcf914d34cc8b3d67e014ca8b43a",
       "version_major": 2,
       "version_minor": 0
      },
      "text/plain": [
       "  0%|          | 0/12238 [00:00<?, ?it/s]"
      ]
     },
     "metadata": {},
     "output_type": "display_data"
    },
    {
     "name": "stdout",
     "output_type": "stream",
     "text": [
      "Mean square error: 0.4613\n",
      "Std of salary prediction error: 113.8045\n",
      "epoch: 1\n"
     ]
    },
    {
     "data": {
      "application/vnd.jupyter.widget-view+json": {
       "model_id": "f05e6151ceac42fbabcbc1c39ead11ce",
       "version_major": 2,
       "version_minor": 0
      },
      "text/plain": [
       "  0%|          | 0/12238 [00:00<?, ?it/s]"
      ]
     },
     "metadata": {},
     "output_type": "display_data"
    },
    {
     "name": "stdout",
     "output_type": "stream",
     "text": [
      "Mean square error: 0.2706\n",
      "Std of salary prediction error: 88.1295\n",
      "epoch: 2\n"
     ]
    },
    {
     "data": {
      "application/vnd.jupyter.widget-view+json": {
       "model_id": "33cca7d25e09457d85975eb7e3ebc98e",
       "version_major": 2,
       "version_minor": 0
      },
      "text/plain": [
       "  0%|          | 0/12238 [00:00<?, ?it/s]"
      ]
     },
     "metadata": {},
     "output_type": "display_data"
    },
    {
     "name": "stdout",
     "output_type": "stream",
     "text": [
      "Mean square error: 0.2322\n",
      "Std of salary prediction error: 81.9514\n",
      "epoch: 3\n"
     ]
    },
    {
     "data": {
      "application/vnd.jupyter.widget-view+json": {
       "model_id": "7c9918e4bb3e4b319bfc9f209660aa83",
       "version_major": 2,
       "version_minor": 0
      },
      "text/plain": [
       "  0%|          | 0/12238 [00:00<?, ?it/s]"
      ]
     },
     "metadata": {},
     "output_type": "display_data"
    },
    {
     "name": "stdout",
     "output_type": "stream",
     "text": [
      "Mean square error: 0.2134\n",
      "Std of salary prediction error: 78.8123\n",
      "epoch: 4\n"
     ]
    },
    {
     "data": {
      "application/vnd.jupyter.widget-view+json": {
       "model_id": "f0b68f2c048641bbb077d861834274ec",
       "version_major": 2,
       "version_minor": 0
      },
      "text/plain": [
       "  0%|          | 0/12238 [00:00<?, ?it/s]"
      ]
     },
     "metadata": {},
     "output_type": "display_data"
    },
    {
     "name": "stdout",
     "output_type": "stream",
     "text": [
      "Mean square error: 0.2005\n",
      "Std of salary prediction error: 76.5826\n"
     ]
    }
   ],
   "source": [
    "EPOCHS = 5\n",
    "model = SalaryPredictor().to(device)\n",
    "criterion = nn.MSELoss()\n",
    "optimizer = torch.optim.SGD(model.parameters(), lr=1e-4)\n",
    "\n",
    "for epoch in range(EPOCHS):\n",
    "    print(f'epoch: {epoch}')\n",
    "    model.train()\n",
    "    for i, batch in tqdm(enumerate(\n",
    "            iterate_minibatches(data_train, batch_size=BATCH_SIZE, device=device)),\n",
    "            total=len(data_train) // BATCH_SIZE\n",
    "        ):\n",
    "        pred = model(batch)\n",
    "        loss = criterion(pred, batch[TARGET_COLUMN])\n",
    "        optimizer.zero_grad()\n",
    "        loss.backward()\n",
    "        optimizer.step()\n",
    "\n",
    "    print_metrics(model, data_val, device=device)"
   ]
  },
  {
   "cell_type": "markdown",
   "metadata": {
    "id": "LLD787KxuXMa"
   },
   "source": [
    "### Объяснение предсказаний\n",
    "\n",
    "На практике очень полезно бывает уметь объяснять, почему модель выдала то или иное предсказание. Для простейших моделей (линейныя регрессия, дерево решений) возможность интерпретации встроена по умолчанию. Однако в случае нейронных сетей все не так просто, потому что зависимость предсказаний от признаков имеет очень сложную структуру, поэтому приходится придумывать всякие трюки.\n",
    "\n",
    "Вот некоторые из способов посмотреть внутрь модели:\n",
    "* Изменить вход и посмотреть, как меняется предсказание\n",
    "* Поискать примеры, которые максимизируют или минимизируют активации конкретных нейронов (_больше об этом на [distill.pub](https://distill.pub/2018/building-blocks/)_)\n",
    "* Построить локальную _линейую_ аппроксимацию модели: [LIME article](https://arxiv.org/abs/1602.04938), [eli5 library](https://github.com/TeamHG-Memex/eli5/tree/master/eli5/formatters)\n",
    "* Обучить нейронную сеть, сопоставляющую каждому слову его важность с точки зрения модели [L2X article](https://arxiv.org/abs/1802.07814)\n",
    "\n",
    "В этом семинаре мы остановимся на первом способе, как на самом простом."
   ]
  },
  {
   "cell_type": "code",
   "execution_count": 95,
   "metadata": {
    "id": "U4JI8HBuuXMb"
   },
   "outputs": [],
   "source": [
    "@torch.no_grad()\n",
    "def explain(model, sample, col_name='Title'):\n",
    "    \"\"\" Computes the effect each word had on model predictions \"\"\"\n",
    "\n",
    "    baseline_pred = model(make_batch(sample, device=device)).cpu()\n",
    "    sample = dict(sample.iloc[0])\n",
    "\n",
    "    sample_col_tokens = [tokens[token_to_id.get(tok, 0)] for tok in sample[col_name].split()]\n",
    "    data_drop_one_token = pd.DataFrame([sample] * (len(sample_col_tokens) + 1))\n",
    "\n",
    "    for drop_i in range(len(sample_col_tokens)):\n",
    "        data_drop_one_token.loc[drop_i, col_name] = ' '.join(UNK if i == drop_i else tok\n",
    "                                                   for i, tok in enumerate(sample_col_tokens))\n",
    "\n",
    "    predictions_drop_one_token = model(make_batch(data_drop_one_token, device=device)).cpu()\n",
    "    diffs = baseline_pred - predictions_drop_one_token\n",
    "    return list(zip(sample_col_tokens, diffs))"
   ]
  },
  {
   "cell_type": "code",
   "execution_count": 96,
   "metadata": {
    "id": "wgo6n-rDuXMb"
   },
   "outputs": [],
   "source": [
    "from IPython.display import HTML, display_html\n",
    "\n",
    "\n",
    "def draw_html(tokens_and_weights, cmap=plt.get_cmap(\"bwr\"), display=True,\n",
    "              token_template=\"\"\"<span style=\"background-color: {color_hex}\">{token}</span>\"\"\",\n",
    "              font_style=\"font-size:14px;\"\n",
    "             ):\n",
    "\n",
    "    def get_color_hex(weight):\n",
    "        rgba = cmap(1. / (1 + np.exp(float(weight))), bytes=True)\n",
    "        return '#%02X%02X%02X' % rgba[:3]\n",
    "\n",
    "    tokens_html = [\n",
    "        token_template.format(token=token, color_hex=get_color_hex(weight))\n",
    "        for token, weight in tokens_and_weights\n",
    "    ]\n",
    "\n",
    "\n",
    "    raw_html = \"\"\"<p style=\"{}\">{}</p>\"\"\".format(font_style, ' '.join(tokens_html))\n",
    "    if display:\n",
    "        display_html(HTML(raw_html))\n",
    "\n",
    "    return raw_html\n"
   ]
  },
  {
   "cell_type": "code",
   "execution_count": 97,
   "metadata": {
    "colab": {
     "base_uri": "https://localhost:8080/",
     "height": 216
    },
    "id": "rDu9bkcTuXMb",
    "outputId": "c85d6a78-da76-4fff-a1b1-ec417c90bdbc"
   },
   "outputs": [
    {
     "data": {
      "text/html": [
       "<p style=\"font-size:20px;\"><span style=\"background-color: #7E7EFF\">sales</span> <span style=\"background-color: #7C7CFF\">specialist</span> <span style=\"background-color: #F0F0FF\">iv</span> <span style=\"background-color: #FFF4F4\">access</span> <span style=\"background-color: #FFFAFA\">and</span> <span style=\"background-color: #E8E8FF\">infusion</span></p>"
      ]
     },
     "metadata": {},
     "output_type": "display_data"
    },
    {
     "data": {
      "text/html": [
       "<p style=\"font-size:14px;\"><span style=\"background-color: #FCFCFF\">sales</span> <span style=\"background-color: #FFF4F4\">representative</span> <span style=\"background-color: #FFDCDC\">medical</span> <span style=\"background-color: #F6F6FF\">sales</span> <span style=\"background-color: #FFCACA\">iv</span> <span style=\"background-color: #FCFCFF\">access</span> <span style=\"background-color: #CCCCFF\">and</span> <span style=\"background-color: #FFECEC\">infusion</span> <span style=\"background-color: #F0F0FF\">an</span> <span style=\"background-color: #FFFAFA\">opportunity</span> <span style=\"background-color: #E6E6FF\">to</span> <span style=\"background-color: #FFE8E8\">work</span> <span style=\"background-color: #FFE6E6\">for</span> <span style=\"background-color: #D8D8FF\">the</span> <span style=\"background-color: #FFF4F4\">industry</span> <span style=\"background-color: #FCFCFF\">leading</span> <span style=\"background-color: #FFDCDC\">manufacturer</span> <span style=\"background-color: #DEDEFF\">of</span> <span style=\"background-color: #FFCACA\">iv</span> <span style=\"background-color: #FCFCFF\">access</span> <span style=\"background-color: #CCCCFF\">and</span> <span style=\"background-color: #FFECEC\">infusion</span> <span style=\"background-color: #FFECEC\">solutions</span> <span style=\"background-color: #FFECEC\">formally</span> <span style=\"background-color: #FFE4E4\">recognised</span> <span style=\"background-color: #FFF2F2\">as</span> <span style=\"background-color: #D8D8FF\">the</span> <span style=\"background-color: #FFDADA\">number</span> <span style=\"background-color: #FFDEDE\">company</span> <span style=\"background-color: #ECECFF\">in</span> <span style=\"background-color: #FEFEFF\">this</span> <span style=\"background-color: #FFE8E8\">market</span> <span style=\"background-color: #FFE4E4\">space</span> <span style=\"background-color: #FFF4F4\">our</span> <span style=\"background-color: #FFF0F0\">client</span> <span style=\"background-color: #DADAFF\">are</span> <span style=\"background-color: #F0F0FF\">an</span> <span style=\"background-color: #FFEEEE\">ethical</span> <span style=\"background-color: #CCCCFF\">and</span> <span style=\"background-color: #FFECEC\">dynamic</span> <span style=\"background-color: #FFF0F0\">organisation</span> <span style=\"background-color: #FEFEFF\">absolutely</span> <span style=\"background-color: #FFE4E4\">committed</span> <span style=\"background-color: #E6E6FF\">to</span> <span style=\"background-color: #D8D8FF\">the</span> <span style=\"background-color: #FFECEC\">advancement</span> <span style=\"background-color: #DEDEFF\">of</span> <span style=\"background-color: #FFEAEA\">innovative</span> <span style=\"background-color: #FCFCFF\">technologies</span> <span style=\"background-color: #FFF8F8\">job</span> <span style=\"background-color: #FFF2F2\">title</span> <span style=\"background-color: #F6F6FF\">sales</span> <span style=\"background-color: #DADAFF\">specialist</span> <span style=\"background-color: #FFCACA\">iv</span> <span style=\"background-color: #FCFCFF\">access</span> <span style=\"background-color: #CCCCFF\">and</span> <span style=\"background-color: #FFECEC\">infusion</span> <span style=\"background-color: #FFE6E6\">selling</span> <span style=\"background-color: #FAFAFF\">medication</span> <span style=\"background-color: #FFF2F2\">delivery</span> <span style=\"background-color: #FFECEC\">solutions</span> <span style=\"background-color: #FFE6E6\">selling</span> <span style=\"background-color: #E6E6FF\">to</span> <span style=\"background-color: #FFCACA\">iv</span> <span style=\"background-color: #EEEEFF\">teams</span> <span style=\"background-color: #F3F3FF\">infection</span> <span style=\"background-color: #FFFAFA\">control</span> <span style=\"background-color: #F6F6FF\">lead</span> <span style=\"background-color: #FCFCFF\">intensive</span> <span style=\"background-color: #ECECFF\">care</span> <span style=\"background-color: #FFFCFC\">nurse</span> <span style=\"background-color: #FFE4E4\">specialists</span> <span style=\"background-color: #FFFEFE\">ward</span> <span style=\"background-color: #FFDADA\">managers</span> <span style=\"background-color: #FFDADA\">territory</span> <span style=\"background-color: #F6F6FF\">east</span> <span style=\"background-color: #FFF4F4\">midlands</span> <span style=\"background-color: #FFE6E6\">location</span> <span style=\"background-color: #F6F6FF\">east</span> <span style=\"background-color: #FFF4F4\">midlands</span> <span style=\"background-color: #FFF6F6\">package</span> <span style=\"background-color: #FFFCFC\">basic</span> <span style=\"background-color: #FEFEFF\">k</span> <span style=\"background-color: #FEFEFF\">k</span> <span style=\"background-color: #FFE4E4\">uncapped</span> <span style=\"background-color: #FFF0F0\">bonus</span> <span style=\"background-color: #ECECFF\">in</span> <span style=\"background-color: #D6D6FF\">addition</span> <span style=\"background-color: #FFD3D3\">full</span> <span style=\"background-color: #FFD3D3\">corporate</span> <span style=\"background-color: #FFFEFE\">benefits</span> <span style=\"background-color: #FFDEDE\">company</span> <span style=\"background-color: #FFE2E2\">information</span> <span style=\"background-color: #FFE2E2\">hugely</span> <span style=\"background-color: #FFEEEE\">ethical</span> <span style=\"background-color: #CCCCFF\">and</span> <span style=\"background-color: #FFF2F2\">professional</span> <span style=\"background-color: #FFDADA\">global</span> <span style=\"background-color: #FFF0F0\">organisation</span> <span style=\"background-color: #FFE6E6\">extremely</span> <span style=\"background-color: #FFDEDE\">well</span> <span style=\"background-color: #FFECEC\">established</span> <span style=\"background-color: #ECECFF\">in</span> <span style=\"background-color: #D8D8FF\">the</span> <span style=\"background-color: #F0F0FF\">uk</span> <span style=\"background-color: #D8D8FF\">the</span> <span style=\"background-color: #FFE8E8\">market</span> <span style=\"background-color: #FFF6F6\">leader</span> <span style=\"background-color: #F2F2FF\">across</span> <span style=\"background-color: #F3F3FF\">all</span> <span style=\"background-color: #DEDEFF\">of</span> <span style=\"background-color: #F0F0FF\">their</span> <span style=\"background-color: #FFEEEE\">core</span> <span style=\"background-color: #FFFEFE\">business</span> <span style=\"background-color: #FFE6E6\">areas</span> <span style=\"background-color: #EAEAFF\">focus</span> <span style=\"background-color: #FEFEFF\">on</span> <span style=\"background-color: #FFFEFE\">providing</span> <span style=\"background-color: #FFF8F8\">cutting</span> <span style=\"background-color: #FFF0F0\">edge</span> <span style=\"background-color: #FFECEC\">solutions</span> <span style=\"background-color: #FFECEC\">along</span> <span style=\"background-color: #FCFCFF\">with</span> <span style=\"background-color: #FEFEFF\">outstanding</span> <span style=\"background-color: #FFF8F8\">service</span> <span style=\"background-color: #CCCCFF\">and</span> <span style=\"background-color: #FFF2F2\">support</span> <span style=\"background-color: #D6D6FF\">a</span> <span style=\"background-color: #FFFEFE\">business</span> <span style=\"background-color: #FFE6E6\">that</span> <span style=\"background-color: #FAFAFF\">retain</span> <span style=\"background-color: #FFF2F2\">talented</span> <span style=\"background-color: #FEFEFF\">personnel</span> <span style=\"background-color: #F3F3FF\">by</span> <span style=\"background-color: #FFEAEA\">offering</span> <span style=\"background-color: #D6D6FF\">a</span> <span style=\"background-color: #FFFCFC\">strong</span> <span style=\"background-color: #FFE6E6\">platform</span> <span style=\"background-color: #FFE6E6\">for</span> <span style=\"background-color: #FFE8E8\">career</span> <span style=\"background-color: #FFF2F2\">development</span> <span style=\"background-color: #F6F6FF\">sales</span> <span style=\"background-color: #DADAFF\">specialist</span> <span style=\"background-color: #FFCACA\">iv</span> <span style=\"background-color: #FCFCFF\">access</span> <span style=\"background-color: #CCCCFF\">and</span> <span style=\"background-color: #FFECEC\">infusion</span> <span style=\"background-color: #FEFEFF\">you</span> <span style=\"background-color: #FFF4F4\">must</span> <span style=\"background-color: #F0F0FF\">have</span> <span style=\"background-color: #F3F3FF\">be</span> <span style=\"background-color: #D8D8FF\">the</span> <span style=\"background-color: #FAFAFF\">following</span> <span style=\"background-color: #FFF0F0\">at</span> <span style=\"background-color: #FAFAFF\">least</span> <span style=\"background-color: #FFDADA\">2</span> <span style=\"background-color: #FFFAFA\">years</span> <span style=\"background-color: #FFDCDC\">medical</span> <span style=\"background-color: #E0E0FF\">device</span> <span style=\"background-color: #F6F6FF\">sales</span> <span style=\"background-color: #EAEAFF\">experience</span> <span style=\"background-color: #FFDEDE\">candidates</span> <span style=\"background-color: #FFDCDC\">who</span> <span style=\"background-color: #F0F0FF\">have</span> <span style=\"background-color: #FFFEFE\">sold</span> <span style=\"background-color: #FAFAFF\">disposables</span> <span style=\"background-color: #FFE4E4\">consumables</span> <span style=\"background-color: #FFF6F6\">or</span> <span style=\"background-color: #FFECEC\">similar</span> <span style=\"background-color: #FFE6E6\">into</span> <span style=\"background-color: #FFFAFA\">hospitals</span> <span style=\"background-color: #FFFAFA\">would</span> <span style=\"background-color: #F3F3FF\">be</span> <span style=\"background-color: #DEDEFF\">of</span> <span style=\"background-color: #FFF4F4\">particular</span> <span style=\"background-color: #FFF8F8\">interest</span> <span style=\"background-color: #FFDEDE\">candidates</span> <span style=\"background-color: #FFF4F4\">must</span> <span style=\"background-color: #F0F0FF\">have</span> <span style=\"background-color: #FFFEFE\">sold</span> <span style=\"background-color: #FFE6E6\">into</span> <span style=\"background-color: #FFFAFA\">hospitals</span> <span style=\"background-color: #F0F0FF\">demonstrable</span> <span style=\"background-color: #F8F8FF\">performance</span> <span style=\"background-color: #CCCCFF\">and</span> <span style=\"background-color: #FFDCDC\">achievements</span> <span style=\"background-color: #EEEEFF\">so</span> <span style=\"background-color: #FFF8F8\">far</span> <span style=\"background-color: #F0F0FF\">personable</span> <span style=\"background-color: #FFDEDE\">adaptable</span> <span style=\"background-color: #CCCCFF\">and</span> <span style=\"background-color: #F3F3FF\">willing</span> <span style=\"background-color: #E6E6FF\">to</span> <span style=\"background-color: #FFDCDC\">learn</span> <span style=\"background-color: #FFDEDE\">keen</span> <span style=\"background-color: #CCCCFF\">and</span> <span style=\"background-color: #F6F6FF\">eager</span> <span style=\"background-color: #E6E6FF\">to</span> <span style=\"background-color: #F3F3FF\">be</span> <span style=\"background-color: #D6D6FF\">a</span> <span style=\"background-color: #FFF4F4\">success</span> <span style=\"background-color: #FFDEDE\">candidates</span> <span style=\"background-color: #FFF4F4\">must</span> <span style=\"background-color: #F0F0FF\">have</span> <span style=\"background-color: #D6D6FF\">a</span> <span style=\"background-color: #FFF0F0\">degree</span> <span style=\"background-color: #FFF6F6\">or</span> <span style=\"background-color: #FFF0F0\">at</span> <span style=\"background-color: #FAFAFF\">least</span> <span style=\"background-color: #F3F3FF\">be</span> <span style=\"background-color: #FAFAFF\">able</span> <span style=\"background-color: #E6E6FF\">to</span> <span style=\"background-color: #FEFEFF\">show</span> <span style=\"background-color: #D6D6FF\">a</span> <span style=\"background-color: #FFFCFC\">strong</span> <span style=\"background-color: #FEFEFF\">ability</span> <span style=\"background-color: #E6E6FF\">to</span> <span style=\"background-color: #FFDCDC\">learn</span> <span style=\"background-color: #F6F6FF\">role</span> <span style=\"background-color: #FFE2E2\">information</span> <span style=\"background-color: #FFE0E0\">managing</span> <span style=\"background-color: #D8D8FF\">the</span> <span style=\"background-color: #F6F6FF\">east</span> <span style=\"background-color: #FFF4F4\">midlands</span> <span style=\"background-color: #FFE6E6\">region</span> <span style=\"background-color: #FFE6E6\">selling</span> <span style=\"background-color: #F2F2FF\">across</span> <span style=\"background-color: #D8D8FF\">the</span> <span style=\"background-color: #FFDEDE\">company</span> <span style=\"background-color: #F0F0FF\">s</span> <span style=\"background-color: #F8F8FF\">range</span> <span style=\"background-color: #DEDEFF\">of</span> <span style=\"background-color: #FFCACA\">iv</span> <span style=\"background-color: #CCCCFF\">and</span> <span style=\"background-color: #FFECEC\">infusion</span> <span style=\"background-color: #FFECEC\">solutions</span> <span style=\"background-color: #FFFEFE\">portfolio</span> <span style=\"background-color: #FFE6E6\">selling</span> <span style=\"background-color: #FFE6E6\">into</span> <span style=\"background-color: #F6F6FF\">lead</span> <span style=\"background-color: #FCFCFF\">intensive</span> <span style=\"background-color: #ECECFF\">care</span> <span style=\"background-color: #FFFCFC\">nurse</span> <span style=\"background-color: #FFE4E4\">specialists</span> <span style=\"background-color: #FFFEFE\">ward</span> <span style=\"background-color: #FFDADA\">managers</span> <span style=\"background-color: #FFCACA\">iv</span> <span style=\"background-color: #EEEEFF\">teams</span> <span style=\"background-color: #F3F3FF\">infection</span> <span style=\"background-color: #FFFAFA\">control</span> <span style=\"background-color: #EEEEFF\">teams</span> <span style=\"background-color: #F3F3FF\">procurement</span> <span style=\"background-color: #F6F6FF\">sales</span> <span style=\"background-color: #DADAFF\">specialist</span> <span style=\"background-color: #FFCACA\">iv</span> <span style=\"background-color: #FCFCFF\">access</span> <span style=\"background-color: #CCCCFF\">and</span> <span style=\"background-color: #FFECEC\">infusion</span> <span style=\"background-color: #FFDEDE\">candidates</span> <span style=\"background-color: #FFF4F4\">must</span> <span style=\"background-color: #F3F3FF\">be</span> <span style=\"background-color: #FFE8E8\">eligible</span> <span style=\"background-color: #E6E6FF\">to</span> <span style=\"background-color: #FFE8E8\">work</span> <span style=\"background-color: #CCCCFF\">and</span> <span style=\"background-color: #FFF8F8\">live</span> <span style=\"background-color: #ECECFF\">in</span> <span style=\"background-color: #D8D8FF\">the</span> <span style=\"background-color: #F0F0FF\">uk</span> <span style=\"background-color: #FFFCFC\">please</span> <span style=\"background-color: #FFE2E2\">contact</span> <span style=\"background-color: #FFECEC\">allan</span> <span style=\"background-color: #FFE6E6\">waller</span> <span style=\"background-color: #FEFEFF\">on</span> <span style=\"background-color: #FFF6F6\">or</span> <span style=\"background-color: #FFFCFC\">please</span> <span style=\"background-color: #EEEEFF\">hit</span> <span style=\"background-color: #D8D8FF\">the</span> <span style=\"background-color: #FFFCFC\">apply</span> <span style=\"background-color: #ECECFF\">button</span> <span style=\"background-color: #FEFEFF\">this</span> <span style=\"background-color: #FFF8F8\">job</span> <span style=\"background-color: #FFCACA\">was</span> <span style=\"background-color: #FFFEFE\">originally</span> <span style=\"background-color: #FFEAEA\">posted</span> <span style=\"background-color: #FFF2F2\">as</span> <span style=\"background-color: #FFEEEE\">www</span> <span style=\"background-color: #FFF4F4\">salestarget</span> <span style=\"background-color: #FFD2D2\">co</span> <span style=\"background-color: #F0F0FF\">uk</span> <span style=\"background-color: #FFEEEE\">jobseeking</span> <span style=\"background-color: #FFFEFE\">UNK</span></p>"
      ]
     },
     "metadata": {},
     "output_type": "display_data"
    }
   ],
   "source": [
    "i = 36605\n",
    "tokens_and_weights = explain(model, data.loc[i:i], \"Title\")\n",
    "draw_html([(tok, weight * 5) for tok, weight in tokens_and_weights], font_style='font-size:20px;');\n",
    "\n",
    "tokens_and_weights = explain(model, data.loc[i:i], \"FullDescription\")\n",
    "draw_html([(tok, weight * 10) for tok, weight in tokens_and_weights]);"
   ]
  },
  {
   "cell_type": "code",
   "execution_count": 98,
   "metadata": {
    "colab": {
     "base_uri": "https://localhost:8080/",
     "height": 285
    },
    "id": "TTZcwuqYuXMb",
    "outputId": "190f6411-2e7f-4293-97b4-0226beb1cb32"
   },
   "outputs": [
    {
     "data": {
      "text/html": [
       "<p style=\"font-size:20px;\"><span style=\"background-color: #3232FF\">sales</span> <span style=\"background-color: #B3B3FF\">lead</span> <span style=\"background-color: #FFA3A3\">generation</span> <span style=\"background-color: #FF8282\">executive</span></p>"
      ]
     },
     "metadata": {},
     "output_type": "display_data"
    },
    {
     "data": {
      "text/html": [
       "<p style=\"font-size:14px;\"><span style=\"background-color: #FFF4F4\">company</span> <span style=\"background-color: #FEFEFF\">overview</span> <span style=\"background-color: #FFF6F6\">think</span> <span style=\"background-color: #FFEAEA\">methodology</span> <span style=\"background-color: #FFECEC\">delivers</span> <span style=\"background-color: #DEDEFF\">a</span> <span style=\"background-color: #F8F8FF\">lead</span> <span style=\"background-color: #F6F6FF\">management</span> <span style=\"background-color: #D6D6FF\">and</span> <span style=\"background-color: #F8F8FF\">lead</span> <span style=\"background-color: #FEFEFF\">generation</span> <span style=\"background-color: #FFF4F4\">solution</span> <span style=\"background-color: #FFECEC\">for</span> <span style=\"background-color: #FAFAFF\">some</span> <span style=\"background-color: #E3E3FF\">of</span> <span style=\"background-color: #E0E0FF\">the</span> <span style=\"background-color: #FFFAFA\">country</span> <span style=\"background-color: #F2F2FF\">s</span> <span style=\"background-color: #FCFCFF\">leading</span> <span style=\"background-color: #FFDADA\">organisations</span> <span style=\"background-color: #FFECEC\">that</span> <span style=\"background-color: #E0E0FF\">increases</span> <span style=\"background-color: #F8F8FF\">sales</span> <span style=\"background-color: #FAFAFF\">performance</span> <span style=\"background-color: #D6D6FF\">and</span> <span style=\"background-color: #FEFEFF\">uses</span> <span style=\"background-color: #FFFEFE\">datadriven</span> <span style=\"background-color: #FFF4F4\">intervention</span> <span style=\"background-color: #FFF6F6\">strategies</span> <span style=\"background-color: #EAEAFF\">to</span> <span style=\"background-color: #FFEEEE\">acquire</span> <span style=\"background-color: #FCFCFF\">retain</span> <span style=\"background-color: #D6D6FF\">and</span> <span style=\"background-color: #FFFEFE\">reactivate</span> <span style=\"background-color: #FFF0F0\">customers</span> <span style=\"background-color: #FAFAFF\">we</span> <span style=\"background-color: #EEEEFF\">deploy</span> <span style=\"background-color: #FFECEC\">multichannel</span> <span style=\"background-color: #FFF6F6\">communications</span> <span style=\"background-color: #FFD6D6\">including</span> <span style=\"background-color: #FAFAFF\">email</span> <span style=\"background-color: #FFFCFC\">direct</span> <span style=\"background-color: #FFE8E8\">mail</span> <span style=\"background-color: #FFF0F0\">sms</span> <span style=\"background-color: #D6D6FF\">and</span> <span style=\"background-color: #FFE2E2\">online</span> <span style=\"background-color: #FFEEEE\">marketing</span> <span style=\"background-color: #FFE8E8\">campaigns</span> <span style=\"background-color: #EAEAFF\">to</span> <span style=\"background-color: #F2F2FF\">drive</span> <span style=\"background-color: #F8F8FF\">high</span> <span style=\"background-color: #FFE2E2\">value</span> <span style=\"background-color: #F8F8FF\">sales</span> <span style=\"background-color: #FFF6F6\">opportunities</span> <span style=\"background-color: #FFECEC\">that</span> <span style=\"background-color: #F3F3FF\">have</span> <span style=\"background-color: #E0E0FF\">the</span> <span style=\"background-color: #FFFAFA\">highest</span> <span style=\"background-color: #FCFCFF\">propensity</span> <span style=\"background-color: #EAEAFF\">to</span> <span style=\"background-color: #FFE6E6\">convert</span> <span style=\"background-color: #F8F8FF\">role</span> <span style=\"background-color: #F8F8FF\">lead</span> <span style=\"background-color: #FEFEFF\">generation</span> <span style=\"background-color: #F2F2FF\">executive</span> <span style=\"background-color: #FFF8F8\">channel</span> <span style=\"background-color: #F0F0FF\">manager</span> <span style=\"background-color: #FFFAFA\">job</span> <span style=\"background-color: #FFF0F0\">purpose</span> <span style=\"background-color: #EAEAFF\">to</span> <span style=\"background-color: #FFF4F4\">develop</span> <span style=\"background-color: #FFFCFC\">relationships</span> <span style=\"background-color: #FCFCFF\">with</span> <span style=\"background-color: #FFF6F6\">our</span> <span style=\"background-color: #FFF0F0\">clients</span> <span style=\"background-color: #FFFAFA\">prospect</span> <span style=\"background-color: #FEFEFF\">base</span> <span style=\"background-color: #EAEAFF\">ultimately</span> <span style=\"background-color: #F6F6FF\">delivering</span> <span style=\"background-color: #F8F8FF\">high</span> <span style=\"background-color: #FFF0F0\">quality</span> <span style=\"background-color: #F8F8FF\">sales</span> <span style=\"background-color: #FFF6F6\">opportunities</span> <span style=\"background-color: #F8F8FF\">duties</span> <span style=\"background-color: #F6F6FF\">making</span> <span style=\"background-color: #FFEAEA\">outbound</span> <span style=\"background-color: #FFEAEA\">telephone</span> <span style=\"background-color: #FFF6F6\">calls</span> <span style=\"background-color: #FEFEFF\">on</span> <span style=\"background-color: #FCFCFF\">behalf</span> <span style=\"background-color: #E3E3FF\">of</span> <span style=\"background-color: #E0E0FF\">the</span> <span style=\"background-color: #FFF2F2\">client</span> <span style=\"background-color: #FFECEC\">supported</span> <span style=\"background-color: #F6F6FF\">by</span> <span style=\"background-color: #FAFAFF\">email</span> <span style=\"background-color: #D6D6FF\">and</span> <span style=\"background-color: #FFFCFC\">direct</span> <span style=\"background-color: #FFE8E8\">mail</span> <span style=\"background-color: #FFE8E8\">campaigns</span> <span style=\"background-color: #F8F8FF\">produced</span> <span style=\"background-color: #F6F6FF\">by</span> <span style=\"background-color: #FFF6F6\">our</span> <span style=\"background-color: #FFEEEE\">inhouse</span> <span style=\"background-color: #FFDEDE\">creative</span> <span style=\"background-color: #FFF6F6\">team</span> <span style=\"background-color: #EAEAFF\">to</span> <span style=\"background-color: #F2F2FF\">generate</span> <span style=\"background-color: #FFE8E8\">appointments</span> <span style=\"background-color: #FFF8F8\">leads</span> <span style=\"background-color: #FFF8F8\">or</span> <span style=\"background-color: #FFF8F8\">attendees</span> <span style=\"background-color: #FFF8F8\">or</span> <span style=\"background-color: #EAEAFF\">to</span> <span style=\"background-color: #FFF8F8\">cleanse</span> <span style=\"background-color: #F2F2FF\">data</span> <span style=\"background-color: #FFF8F8\">records</span> <span style=\"background-color: #FFE8E8\">working</span> <span style=\"background-color: #FCFCFF\">with</span> <span style=\"background-color: #FFF6F6\">team</span> <span style=\"background-color: #FFF8F8\">leader</span> <span style=\"background-color: #EAEAFF\">to</span> <span style=\"background-color: #FFDEDE\">promote</span> <span style=\"background-color: #F0F0FF\">brand</span> <span style=\"background-color: #E3E3FF\">awareness</span> <span style=\"background-color: #F2F2FF\">so</span> <span style=\"background-color: #FFECEC\">that</span> <span style=\"background-color: #FFE6E6\">every</span> <span style=\"background-color: #FFFAFA\">opportunity</span> <span style=\"background-color: #EAEAFF\">to</span> <span style=\"background-color: #FFF6F6\">meet</span> <span style=\"background-color: #E0E0FF\">the</span> <span style=\"background-color: #FFF2F2\">client</span> <span style=\"background-color: #F8F8FF\">needs</span> <span style=\"background-color: #FFF4F4\">is</span> <span style=\"background-color: #FFF4F4\">taken</span> <span style=\"background-color: #FFF6F6\">keep</span> <span style=\"background-color: #FFFCFC\">abreast</span> <span style=\"background-color: #E3E3FF\">of</span> <span style=\"background-color: #E0E0FF\">the</span> <span style=\"background-color: #F2F2FF\">latest</span> <span style=\"background-color: #FFECEC\">market</span> <span style=\"background-color: #FFE8E8\">information</span> <span style=\"background-color: #F2F2FF\">so</span> <span style=\"background-color: #FFECEC\">that</span> <span style=\"background-color: #FEFEFF\">you</span> <span style=\"background-color: #FFF4F4\">can</span> <span style=\"background-color: #FFDEDE\">promote</span> <span style=\"background-color: #E0E0FF\">the</span> <span style=\"background-color: #F0F0FF\">brand</span> <span style=\"background-color: #F0F0FF\">in</span> <span style=\"background-color: #E0E0FF\">the</span> <span style=\"background-color: #F3F3FF\">most</span> <span style=\"background-color: #FFFCFC\">accurate</span> <span style=\"background-color: #F8F8FF\">way</span> <span style=\"background-color: #FEFEFF\">ability</span> <span style=\"background-color: #EAEAFF\">to</span> <span style=\"background-color: #FFE8E8\">speak</span> <span style=\"background-color: #FFFAFA\">confidently</span> <span style=\"background-color: #D6D6FF\">and</span> <span style=\"background-color: #FFF2F2\">accurately</span> <span style=\"background-color: #EAEAFF\">to</span> <span style=\"background-color: #DEDEFF\">a</span> <span style=\"background-color: #FAFAFF\">varying</span> <span style=\"background-color: #FFF4F4\">degree</span> <span style=\"background-color: #E3E3FF\">of</span> <span style=\"background-color: #FFFCFC\">decision</span> <span style=\"background-color: #FFF6F6\">maker</span> <span style=\"background-color: #FFF2F2\">accurately</span> <span style=\"background-color: #FFF8F8\">take</span> <span style=\"background-color: #FFEEEE\">down</span> <span style=\"background-color: #D6D6FF\">and</span> <span style=\"background-color: #FFFCFC\">pass</span> <span style=\"background-color: #FEFEFF\">on</span> <span style=\"background-color: #FFF2F2\">details</span> <span style=\"background-color: #E3E3FF\">of</span> <span style=\"background-color: #FFFAFA\">prospect</span> <span style=\"background-color: #FFF0F0\">customers</span> <span style=\"background-color: #EAEAFF\">to</span> <span style=\"background-color: #E0E0FF\">the</span> <span style=\"background-color: #FFE8E8\">telemarketing</span> <span style=\"background-color: #FFF6F6\">team</span> <span style=\"background-color: #FFF8F8\">leader</span> <span style=\"background-color: #F8F8FF\">account</span> <span style=\"background-color: #F0F0FF\">manager</span> <span style=\"background-color: #EAEAFF\">to</span> <span style=\"background-color: #F6F6FF\">be</span> <span style=\"background-color: #FFF2F2\">sent</span> <span style=\"background-color: #F0F0FF\">through</span> <span style=\"background-color: #EAEAFF\">to</span> <span style=\"background-color: #E0E0FF\">the</span> <span style=\"background-color: #FFF2F2\">client</span> <span style=\"background-color: #FFF6F6\">keep</span> <span style=\"background-color: #DEDEFF\">a</span> <span style=\"background-color: #FFE4E4\">cleansed</span> <span style=\"background-color: #F3F3FF\">manageable</span> <span style=\"background-color: #D6D6FF\">and</span> <span style=\"background-color: #FFF2F2\">up</span> <span style=\"background-color: #EAEAFF\">to</span> <span style=\"background-color: #FCFCFF\">date</span> <span style=\"background-color: #F8F8FF\">database</span> <span style=\"background-color: #FFFEFE\">effectively</span> <span style=\"background-color: #D6D6FF\">and</span> <span style=\"background-color: #FFF6F6\">efficiently</span> <span style=\"background-color: #F0F0FF\">complete</span> <span style=\"background-color: #FFECEC\">work</span> <span style=\"background-color: #FFD6D6\">allocated</span> <span style=\"background-color: #F6F6FF\">by</span> <span style=\"background-color: #FFF6F6\">team</span> <span style=\"background-color: #FFF8F8\">leader</span> <span style=\"background-color: #F0F0FF\">build</span> <span style=\"background-color: #F6F6FF\">good</span> <span style=\"background-color: #FFFCFC\">relationships</span> <span style=\"background-color: #FCFCFF\">with</span> <span style=\"background-color: #FFF0F0\">clients</span> <span style=\"background-color: #F8F8FF\">sales</span> <span style=\"background-color: #FCFCFF\">representatives</span> <span style=\"background-color: #D6D6FF\">and</span> <span style=\"background-color: #FFF6F6\">efficiently</span> <span style=\"background-color: #D6D6FF\">and</span> <span style=\"background-color: #FFFEFE\">effectively</span> <span style=\"background-color: #FAFAFF\">manage</span> <span style=\"background-color: #F2F2FF\">their</span> <span style=\"background-color: #FFF4F4\">time</span> <span style=\"background-color: #FCFCFF\">maintains</span> <span style=\"background-color: #FFFCFC\">relationships</span> <span style=\"background-color: #FCFCFF\">with</span> <span style=\"background-color: #FFF0F0\">clients</span> <span style=\"background-color: #F6F6FF\">by</span> <span style=\"background-color: #FFFEFE\">providing</span> <span style=\"background-color: #FFF4F4\">support</span> <span style=\"background-color: #FFE8E8\">information</span> <span style=\"background-color: #D6D6FF\">and</span> <span style=\"background-color: #FCFCFF\">guidance</span> <span style=\"background-color: #FFEAEA\">researching</span> <span style=\"background-color: #D6D6FF\">and</span> <span style=\"background-color: #FFE4E4\">recommending</span> <span style=\"background-color: #FAFAFF\">new</span> <span style=\"background-color: #FFF6F6\">opportunities</span> <span style=\"background-color: #FFE4E4\">recommending</span> <span style=\"background-color: #FFF4F4\">profit</span> <span style=\"background-color: #D6D6FF\">and</span> <span style=\"background-color: #FFFAFA\">service</span> <span style=\"background-color: #FEFEFF\">improvements</span> <span style=\"background-color: #FFE2E2\">prepares</span> <span style=\"background-color: #F8F8FF\">reports</span> <span style=\"background-color: #F6F6FF\">by</span> <span style=\"background-color: #FCFCFF\">collecting</span> <span style=\"background-color: #E2E2FF\">analysing</span> <span style=\"background-color: #D6D6FF\">and</span> <span style=\"background-color: #FFE6E6\">summarising</span> <span style=\"background-color: #FFE8E8\">information</span> <span style=\"background-color: #F2F2FF\">deal</span> <span style=\"background-color: #FCFCFF\">with</span> <span style=\"background-color: #FAFAFF\">inbound</span> <span style=\"background-color: #FFFAFA\">prospect</span> <span style=\"background-color: #FFEEEE\">customer</span> <span style=\"background-color: #FFEEEE\">queries</span> <span style=\"background-color: #D6D6FF\">and</span> <span style=\"background-color: #FFF0F0\">if</span> <span style=\"background-color: #FFD3D3\">appropriate</span> <span style=\"background-color: #FFFCFC\">resolve</span> <span style=\"background-color: #FFFAFA\">prospect</span> <span style=\"background-color: #FFEEEE\">customer</span> <span style=\"background-color: #FFF6F6\">complaints</span> <span style=\"background-color: #FFFEFE\">ensure</span> <span style=\"background-color: #E0E0FF\">the</span> <span style=\"background-color: #FFE6E6\">timely</span> <span style=\"background-color: #FFF2F2\">escalation</span> <span style=\"background-color: #E3E3FF\">of</span> <span style=\"background-color: #FFFEFE\">issues</span> <span style=\"background-color: #EAEAFF\">to</span> <span style=\"background-color: #E0E0FF\">the</span> <span style=\"background-color: #FFF6F6\">team</span> <span style=\"background-color: #FFF8F8\">leader</span> <span style=\"background-color: #FFF4F4\">as</span> <span style=\"background-color: #FFD3D3\">appropriate</span> <span style=\"background-color: #FFFCFC\">proactively</span> <span style=\"background-color: #FEFEFF\">pursue</span> <span style=\"background-color: #FFECEC\">selfdevelopment</span> <span style=\"background-color: #FFF6F6\">opportunities</span> <span style=\"background-color: #FFEEEE\">within</span> <span style=\"background-color: #E0E0FF\">the</span> <span style=\"background-color: #FFF8F8\">agency</span> <span style=\"background-color: #FCFCFF\">contributes</span> <span style=\"background-color: #EAEAFF\">to</span> <span style=\"background-color: #FFF6F6\">team</span> <span style=\"background-color: #FEFEFF\">effort</span> <span style=\"background-color: #F6F6FF\">by</span> <span style=\"background-color: #FFEAEA\">accomplishing</span> <span style=\"background-color: #FEFEFF\">related</span> <span style=\"background-color: #F3F3FF\">results</span> <span style=\"background-color: #FFF4F4\">as</span> <span style=\"background-color: #FAFAFF\">needed</span> <span style=\"background-color: #F6F6FF\">assume</span> <span style=\"background-color: #FFF4F4\">joint</span> <span style=\"background-color: #FFFEFE\">responsibility</span> <span style=\"background-color: #FFECEC\">for</span> <span style=\"background-color: #F3F3FF\">regularly</span> <span style=\"background-color: #FFE4E4\">reviewing</span> <span style=\"background-color: #FAFAFF\">performance</span> <span style=\"background-color: #D6D6FF\">and</span> <span style=\"background-color: #FFFAFA\">personal</span> <span style=\"background-color: #FFF6F6\">development</span> <span style=\"background-color: #FFFEFE\">discuss</span> <span style=\"background-color: #FFECEC\">career</span> <span style=\"background-color: #FFF8F8\">aspirations</span> <span style=\"background-color: #D6D6FF\">and</span> <span style=\"background-color: #FFFAFA\">agree</span> <span style=\"background-color: #FFFAFA\">personal</span> <span style=\"background-color: #FFF6F6\">development</span> <span style=\"background-color: #FFDEDE\">plan</span> <span style=\"background-color: #FCFCFF\">with</span> <span style=\"background-color: #FFF6F6\">team</span> <span style=\"background-color: #FFF8F8\">leader</span> <span style=\"background-color: #F0F0FF\">in</span> <span style=\"background-color: #DEDEFF\">addition</span> <span style=\"background-color: #EAEAFF\">to</span> <span style=\"background-color: #E0E0FF\">the</span> <span style=\"background-color: #F8F8FF\">duties</span> <span style=\"background-color: #D6D6FF\">and</span> <span style=\"background-color: #F3F3FF\">responsibilities</span> <span style=\"background-color: #FFFAFA\">listed</span> <span style=\"background-color: #E0E0FF\">the</span> <span style=\"background-color: #FFFAFA\">job</span> <span style=\"background-color: #FFECEC\">holder</span> <span style=\"background-color: #FFF4F4\">is</span> <span style=\"background-color: #FFF6F6\">required</span> <span style=\"background-color: #EAEAFF\">to</span> <span style=\"background-color: #FAFAFF\">perform</span> <span style=\"background-color: #FFECEC\">other</span> <span style=\"background-color: #F8F8FF\">duties</span> <span style=\"background-color: #FFF4F4\">as</span> <span style=\"background-color: #FFF0F0\">assigned</span> <span style=\"background-color: #F6F6FF\">by</span> <span style=\"background-color: #F2F2FF\">their</span> <span style=\"background-color: #F0F0FF\">manager</span> <span style=\"background-color: #E2E2FF\">from</span> <span style=\"background-color: #FFF4F4\">time</span> <span style=\"background-color: #EAEAFF\">to</span> <span style=\"background-color: #FFF4F4\">time</span> <span style=\"background-color: #F6F6FF\">skills</span> <span style=\"background-color: #FFFCFC\">qualifications</span> <span style=\"background-color: #FCFCFF\">presentation</span> <span style=\"background-color: #F6F6FF\">skills</span> <span style=\"background-color: #FFF2F2\">client</span> <span style=\"background-color: #FFFCFC\">relationships</span> <span style=\"background-color: #EEEEFF\">emphasising</span> <span style=\"background-color: #FFF8F8\">excellence</span> <span style=\"background-color: #FFE8E8\">negotiation</span> <span style=\"background-color: #FFF2F2\">prospecting</span> <span style=\"background-color: #F6F6FF\">skills</span> <span style=\"background-color: #FFF4F4\">meeting</span> <span style=\"background-color: #F8F8FF\">sales</span> <span style=\"background-color: #FCFCFF\">goals</span> <span style=\"background-color: #FFEAEA\">creativity</span> <span style=\"background-color: #F8F8FF\">sales</span> <span style=\"background-color: #FFFEFE\">planning</span> <span style=\"background-color: #FCFCFF\">independence</span> <span style=\"background-color: #FFE8E8\">motivation</span> <span style=\"background-color: #FFF2F2\">for</span> <span style=\"background-color: #FEFEFF\">sales</span></p>"
      ]
     },
     "metadata": {},
     "output_type": "display_data"
    }
   ],
   "source": [
    "i = 12010\n",
    "tokens_and_weights = explain(model, data.loc[i:i], \"Title\")\n",
    "draw_html([(tok, weight * 5) for tok, weight in tokens_and_weights], font_style='font-size:20px;');\n",
    "\n",
    "tokens_and_weights = explain(model, data.loc[i:i], \"FullDescription\")\n",
    "draw_html([(tok, weight * 10) for tok, weight in tokens_and_weights]);"
   ]
  },
  {
   "cell_type": "code",
   "execution_count": 99,
   "metadata": {
    "colab": {
     "base_uri": "https://localhost:8080/",
     "height": 236
    },
    "id": "rhspbASduXMb",
    "outputId": "58d42183-3e46-42c5-f883-df20d6537f61"
   },
   "outputs": [
    {
     "name": "stdout",
     "output_type": "stream",
     "text": [
      "Index: 3646\n",
      "Salary (gbp): tensor(31157.8984)\n"
     ]
    },
    {
     "data": {
      "text/html": [
       "<p style=\"font-size:20px;\"><span style=\"background-color: #4444FF\">staff</span> <span style=\"background-color: #7C7CFF\">nurse</span> <span style=\"background-color: #6060FF\">nursing</span> <span style=\"background-color: #FFB0B0\">home</span> <span style=\"background-color: #FF8383\">wantage</span></p>"
      ]
     },
     "metadata": {},
     "output_type": "display_data"
    },
    {
     "data": {
      "text/html": [
       "<p style=\"font-size:14px;\"><span style=\"background-color: #FEFEFF\">staff</span> <span style=\"background-color: #FEFEFF\">nurse</span> <span style=\"background-color: #FFF6F6\">nursing</span> <span style=\"background-color: #FFFCFC\">home</span> <span style=\"background-color: #FFF4F4\">wantage</span> <span style=\"background-color: #FFF0F0\">white</span> <span style=\"background-color: #F8F8FF\">recruitment</span> <span style=\"background-color: #FFEEEE\">is</span> <span style=\"background-color: #FFF0F0\">currently</span> <span style=\"background-color: #FFF6F6\">looking</span> <span style=\"background-color: #FFE4E4\">for</span> <span style=\"background-color: #D2D2FF\">a</span> <span style=\"background-color: #FFE4E4\">registered</span> <span style=\"background-color: #FFFCFC\">nurse</span> <span style=\"background-color: #FFE2E2\">rgn</span> <span style=\"background-color: #FAFAFF\">with</span> <span style=\"background-color: #D2D2FF\">a</span> <span style=\"background-color: #FFF8F8\">naturally</span> <span style=\"background-color: #F6F6FF\">caring</span> <span style=\"background-color: #ECECFF\">nature</span> <span style=\"background-color: #FFE4E4\">for</span> <span style=\"background-color: #D2D2FF\">a</span> <span style=\"background-color: #FFF8F8\">large</span> <span style=\"background-color: #FFDCDC\">sized</span> <span style=\"background-color: #FFF6F6\">nursing</span> <span style=\"background-color: #FFFCFC\">home</span> <span style=\"background-color: #EAEAFF\">in</span> <span style=\"background-color: #FFF4F4\">wantage</span> <span style=\"background-color: #FFF0F0\">as</span> <span style=\"background-color: #FFD8D8\">well</span> <span style=\"background-color: #FFF0F0\">as</span> <span style=\"background-color: #F2F2FF\">good</span> <span style=\"background-color: #EAEAFF\">care</span> <span style=\"background-color: #FFEAEA\">quality</span> <span style=\"background-color: #F6F6FF\">reports</span> <span style=\"background-color: #D3D3FF\">the</span> <span style=\"background-color: #FFFCFC\">home</span> <span style=\"background-color: #FFE6E6\">boasts</span> <span style=\"background-color: #D2D2FF\">a</span> <span style=\"background-color: #FFD8D8\">comforting</span> <span style=\"background-color: #C6C6FF\">and</span> <span style=\"background-color: #F6F6FF\">caring</span> <span style=\"background-color: #FFE6E6\">atmosphere</span> <span style=\"background-color: #FFE4E4\">for</span> <span style=\"background-color: #D3D3FF\">the</span> <span style=\"background-color: #FFF2F2\">elderly</span> <span style=\"background-color: #C6C6FF\">and</span> <span style=\"background-color: #FFFCFC\">mentally</span> <span style=\"background-color: #FFD8D8\">infirm</span> <span style=\"background-color: #E2E2FF\">patients</span> <span style=\"background-color: #FFE4E4\">that</span> <span style=\"background-color: #FFF6F6\">it</span> <span style=\"background-color: #FFF0F0\">accommodates</span> <span style=\"background-color: #FFD8D8\">my</span> <span style=\"background-color: #FFEEEE\">client</span> <span style=\"background-color: #FFEEEE\">is</span> <span style=\"background-color: #E3E3FF\">one</span> <span style=\"background-color: #DADAFF\">of</span> <span style=\"background-color: #D3D3FF\">the</span> <span style=\"background-color: #FCFCFF\">leading</span> <span style=\"background-color: #FFF8F8\">companies</span> <span style=\"background-color: #EAEAFF\">in</span> <span style=\"background-color: #FEFEFF\">this</span> <span style=\"background-color: #FFC8C8\">provision</span> <span style=\"background-color: #DADAFF\">of</span> <span style=\"background-color: #FFE8E8\">patient</span> <span style=\"background-color: #F6F6FF\">orientated</span> <span style=\"background-color: #EAEAFF\">care</span> <span style=\"background-color: #C6C6FF\">and</span> <span style=\"background-color: #FFEEEE\">they</span> <span style=\"background-color: #D6D6FF\">are</span> <span style=\"background-color: #FFF6F6\">looking</span> <span style=\"background-color: #FFE4E4\">for</span> <span style=\"background-color: #FEFEFF\">outstanding</span> <span style=\"background-color: #FFF2F2\">clinicians</span> <span style=\"background-color: #E2E2FF\">to</span> <span style=\"background-color: #F3F3FF\">join</span> <span style=\"background-color: #EEEEFF\">their</span> <span style=\"background-color: #FFFAFA\">ever</span> <span style=\"background-color: #FFFAFA\">expanding</span> <span style=\"background-color: #FFEEEE\">organisation</span> <span style=\"background-color: #FFF4F4\">your</span> <span style=\"background-color: #F6F6FF\">role</span> <span style=\"background-color: #FFEEEE\">will</span> <span style=\"background-color: #FAFAFF\">include</span> <span style=\"background-color: #FFEAEA\">hours</span> <span style=\"background-color: #FFF0F0\">week</span> <span style=\"background-color: #FAFAFF\">days</span> <span style=\"background-color: #FFEAEA\">3</span> <span style=\"background-color: #FAFAFF\">shifts</span> <span style=\"background-color: #FFF4F4\">supervision</span> <span style=\"background-color: #C6C6FF\">and</span> <span style=\"background-color: #F2F2FF\">management</span> <span style=\"background-color: #DADAFF\">of</span> <span style=\"background-color: #F2F2FF\">all</span> <span style=\"background-color: #EAEAFF\">care</span> <span style=\"background-color: #FFFAFA\">staff</span> <span style=\"background-color: #FEFEFF\">on</span> <span style=\"background-color: #FFF4F4\">your</span> <span style=\"background-color: #FFEAEA\">shift</span> <span style=\"background-color: #FFFCFC\">respond</span> <span style=\"background-color: #E2E2FF\">to</span> <span style=\"background-color: #FFEEEE\">incidents</span> <span style=\"background-color: #EAEAFF\">in</span> <span style=\"background-color: #D2D2FF\">a</span> <span style=\"background-color: #FFF2F2\">professional</span> <span style=\"background-color: #C6C6FF\">and</span> <span style=\"background-color: #FFC3C3\">appropriate</span> <span style=\"background-color: #FFF4F4\">manor</span> <span style=\"background-color: #FAFAFF\">assess</span> <span style=\"background-color: #FFE8E8\">clients</span> <span style=\"background-color: #EAEAFF\">care</span> <span style=\"background-color: #F3F3FF\">needs</span> <span style=\"background-color: #C6C6FF\">and</span> <span style=\"background-color: #FFF6F6\">provide</span> <span style=\"background-color: #FFFCFC\">direct</span> <span style=\"background-color: #FFF6F6\">nursing</span> <span style=\"background-color: #EAEAFF\">care</span> <span style=\"background-color: #FAFAFF\">when</span> <span style=\"background-color: #FFF2F2\">required</span> <span style=\"background-color: #FFDCDC\">maintain</span> <span style=\"background-color: #FFFAFA\">accurate</span> <span style=\"background-color: #FFF8F8\">individualised</span> <span style=\"background-color: #EAEAFF\">care</span> <span style=\"background-color: #FFDCDC\">plans</span> <span style=\"background-color: #FFE4E4\">for</span> <span style=\"background-color: #FFF0F0\">each</span> <span style=\"background-color: #FFEEEE\">client</span> <span style=\"background-color: #E2E2FF\">establish</span> <span style=\"background-color: #C6C6FF\">and</span> <span style=\"background-color: #FFDCDC\">maintain</span> <span style=\"background-color: #F2F2FF\">good</span> <span style=\"background-color: #FCFCFF\">communication</span> <span style=\"background-color: #FAFAFF\">with</span> <span style=\"background-color: #FFE8E8\">clients</span> <span style=\"background-color: #FFEEEE\">relatives</span> <span style=\"background-color: #C6C6FF\">and</span> <span style=\"background-color: #F8F8FF\">colleagues</span> <span style=\"background-color: #D3D3FF\">the</span> <span style=\"background-color: #F0F0FF\">candidate</span> <span style=\"background-color: #FFF2F2\">must</span> <span style=\"background-color: #F2F2FF\">be</span> <span style=\"background-color: #D2D2FF\">a</span> <span style=\"background-color: #FFEAEA\">qualified</span> <span style=\"background-color: #FFE4E4\">registered</span> <span style=\"background-color: #F8F8FF\">general</span> <span style=\"background-color: #FFFCFC\">nurse</span> <span style=\"background-color: #FFF2F2\">must</span> <span style=\"background-color: #F0F0FF\">have</span> <span style=\"background-color: #FFEEEE\">at</span> <span style=\"background-color: #F8F8FF\">least</span> <span style=\"background-color: #FFFEFE\">1</span> <span style=\"background-color: #FFFAFA\">years</span> <span style=\"background-color: #E6E6FF\">experience</span> <span style=\"background-color: #FFDEDE\">working</span> <span style=\"background-color: #FAFAFF\">with</span> <span style=\"background-color: #FFF2F2\">elderly</span> <span style=\"background-color: #FFE8E8\">clients</span> <span style=\"background-color: #E6E6FF\">experience</span> <span style=\"background-color: #DADAFF\">of</span> <span style=\"background-color: #FFDEDE\">working</span> <span style=\"background-color: #FAFAFF\">with</span> <span style=\"background-color: #FFFAFA\">dementia</span> <span style=\"background-color: #E2E2FF\">patients</span> <span style=\"background-color: #ECECFF\">ideal</span> <span style=\"background-color: #F6F6FF\">but</span> <span style=\"background-color: #F3F3FF\">not</span> <span style=\"background-color: #F3F3FF\">essential</span> <span style=\"background-color: #FFF2F2\">must</span> <span style=\"background-color: #F2F2FF\">be</span> <span style=\"background-color: #FAFAFF\">able</span> <span style=\"background-color: #E2E2FF\">to</span> <span style=\"background-color: #FFE4E4\">work</span> <span style=\"background-color: #FEFEFF\">on</span> <span style=\"background-color: #FFF4F4\">your</span> <span style=\"background-color: #FFFEFE\">own</span> <span style=\"background-color: #FAFAFF\">initiative</span> <span style=\"background-color: #C6C6FF\">and</span> <span style=\"background-color: #FFF0F0\">as</span> <span style=\"background-color: #FFE4E4\">part</span> <span style=\"background-color: #DADAFF\">of</span> <span style=\"background-color: #D2D2FF\">a</span> <span style=\"background-color: #FFF2F2\">team</span> <span style=\"background-color: #FCFCFF\">ability</span> <span style=\"background-color: #E2E2FF\">to</span> <span style=\"background-color: #FFF2F2\">communicate</span> <span style=\"background-color: #FFFEFE\">effectively</span> <span style=\"background-color: #FFF2F2\">must</span> <span style=\"background-color: #F0F0FF\">have</span> <span style=\"background-color: #EEEEFF\">an</span> <span style=\"background-color: #FFE4E4\">active</span> <span style=\"background-color: #FFE4E4\">nmc</span> <span style=\"background-color: #FFF6F6\">pin</span> <span style=\"background-color: #FFD6D6\">number</span> <span style=\"background-color: #FFF2F2\">must</span> <span style=\"background-color: #F2F2FF\">be</span> <span style=\"background-color: #FAFAFF\">able</span> <span style=\"background-color: #E2E2FF\">to</span> <span style=\"background-color: #E8E8FF\">complete</span> <span style=\"background-color: #EEEEFF\">an</span> <span style=\"background-color: #FFF6F6\">enhanced</span> <span style=\"background-color: #FCFCFF\">crb</span> <span style=\"background-color: #FFFCFC\">check</span> <span style=\"background-color: #FFF0F0\">salary</span> <span style=\"background-color: #FAFAFF\">approximately</span> <span style=\"background-color: #FEFEFF\">k</span> <span style=\"background-color: #E8E8FF\">per</span> <span style=\"background-color: #FFDADA\">annum</span> <span style=\"background-color: #FFF4F4\">or</span> <span style=\"background-color: #E8E8FF\">per</span> <span style=\"background-color: #FFE6E6\">hour</span> <span style=\"background-color: #FAFAFF\">with</span> <span style=\"background-color: #D2D2FF\">a</span> <span style=\"background-color: #FFFAFA\">night</span> <span style=\"background-color: #FFD3D3\">rate</span> <span style=\"background-color: #DADAFF\">of</span> <span style=\"background-color: #FFE8E8\">if</span> <span style=\"background-color: #FEFEFF\">you</span> <span style=\"background-color: #FFF0F0\">think</span> <span style=\"background-color: #FEFEFF\">you</span> <span style=\"background-color: #D6D6FF\">are</span> <span style=\"background-color: #FFEEEE\">suitable</span> <span style=\"background-color: #FFFCFC\">please</span> <span style=\"background-color: #F8F8FF\">send</span> <span style=\"background-color: #FFF4F4\">your</span> <span style=\"background-color: #FFEEEE\">details</span> <span style=\"background-color: #E2E2FF\">to</span> <span style=\"background-color: #FFE8E8\">robwhiterecruitment</span> <span style=\"background-color: #FEFEFF\">com</span> <span style=\"background-color: #FFF4F4\">or</span> <span style=\"background-color: #FFECEC\">call</span> <span style=\"background-color: #D8D8FF\">me</span> <span style=\"background-color: #FEFEFF\">on</span> <span style=\"background-color: #FFE8E8\">if</span> <span style=\"background-color: #FFF4F4\">your</span> <span style=\"background-color: #E6E6FF\">experience</span> <span style=\"background-color: #FFF8F8\">matches</span> <span style=\"background-color: #FFFCFC\">please</span> <span style=\"background-color: #FFE4E4\">forward</span> <span style=\"background-color: #FFF4F4\">your</span> <span style=\"background-color: #FEFEFF\">cv</span> <span style=\"background-color: #FFD8D8\">immediately</span> <span style=\"background-color: #FFF0F0\">white</span> <span style=\"background-color: #F8F8FF\">recruitment</span> <span style=\"background-color: #FFECEC\">ltd</span> <span style=\"background-color: #FFEEEE\">is</span> <span style=\"background-color: #FFF6F6\">acting</span> <span style=\"background-color: #FFF0F0\">as</span> <span style=\"background-color: #EEEEFF\">an</span> <span style=\"background-color: #F2F2FF\">employment</span> <span style=\"background-color: #FFF4F4\">agency</span> <span style=\"background-color: #EAEAFF\">in</span> <span style=\"background-color: #FFECEC\">relation</span> <span style=\"background-color: #E2E2FF\">to</span> <span style=\"background-color: #FFFCFC\">this</span> <span style=\"background-color: #F6F6FF\">vacancy</span></p>"
      ]
     },
     "metadata": {},
     "output_type": "display_data"
    }
   ],
   "source": [
    "i = np.random.randint(len(data))\n",
    "print(\"Index:\", i)\n",
    "with torch.no_grad():\n",
    "    print(\"Salary (gbp):\", np.expm1(model(make_batch(data.iloc[i: i+1], device=device)).cpu()))\n",
    "\n",
    "tokens_and_weights = explain(model, data.loc[i:i], \"Title\")\n",
    "draw_html([(tok, weight * 5) for tok, weight in tokens_and_weights], font_style='font-size:20px;');\n",
    "\n",
    "tokens_and_weights = explain(model, data.loc[i:i], \"FullDescription\")\n",
    "draw_html([(tok, weight * 10) for tok, weight in tokens_and_weights]);"
   ]
  },
  {
   "cell_type": "code",
   "execution_count": null,
   "metadata": {},
   "outputs": [],
   "source": []
  }
 ],
 "metadata": {
  "colab": {
   "gpuType": "T4",
   "provenance": []
  },
  "kernelspec": {
   "display_name": "Python 3 (ipykernel)",
   "language": "python",
   "name": "python3"
  },
  "language_info": {
   "codemirror_mode": {
    "name": "ipython",
    "version": 3
   },
   "file_extension": ".py",
   "mimetype": "text/x-python",
   "name": "python",
   "nbconvert_exporter": "python",
   "pygments_lexer": "ipython3",
   "version": "3.8.10"
  },
  "widgets": {
   "application/vnd.jupyter.widget-state+json": {
    "095c00c08f6d4d638ff986b700c9db2e": {
     "model_module": "@jupyter-widgets/controls",
     "model_module_version": "1.5.0",
     "model_name": "DescriptionStyleModel",
     "state": {
      "_model_module": "@jupyter-widgets/controls",
      "_model_module_version": "1.5.0",
      "_model_name": "DescriptionStyleModel",
      "_view_count": null,
      "_view_module": "@jupyter-widgets/base",
      "_view_module_version": "1.2.0",
      "_view_name": "StyleView",
      "description_width": ""
     }
    },
    "09b33174cc1545c58b4e1fdbcb61fc97": {
     "model_module": "@jupyter-widgets/controls",
     "model_module_version": "1.5.0",
     "model_name": "FloatProgressModel",
     "state": {
      "_dom_classes": [],
      "_model_module": "@jupyter-widgets/controls",
      "_model_module_version": "1.5.0",
      "_model_name": "FloatProgressModel",
      "_view_count": null,
      "_view_module": "@jupyter-widgets/controls",
      "_view_module_version": "1.5.0",
      "_view_name": "ProgressView",
      "bar_style": "success",
      "description": "",
      "description_tooltip": null,
      "layout": "IPY_MODEL_38952edf953849c6b0d9079e85dfbfa1",
      "max": 12238,
      "min": 0,
      "orientation": "horizontal",
      "style": "IPY_MODEL_871194afc27d4f9bbbe43858d7d788e4",
      "value": 12238
     }
    },
    "0a231bc0f5744d799ec2eb21538c7475": {
     "model_module": "@jupyter-widgets/controls",
     "model_module_version": "1.5.0",
     "model_name": "DescriptionStyleModel",
     "state": {
      "_model_module": "@jupyter-widgets/controls",
      "_model_module_version": "1.5.0",
      "_model_name": "DescriptionStyleModel",
      "_view_count": null,
      "_view_module": "@jupyter-widgets/base",
      "_view_module_version": "1.2.0",
      "_view_name": "StyleView",
      "description_width": ""
     }
    },
    "0cb4bd6bbe944ae88eff9733f2796699": {
     "model_module": "@jupyter-widgets/controls",
     "model_module_version": "1.5.0",
     "model_name": "HBoxModel",
     "state": {
      "_dom_classes": [],
      "_model_module": "@jupyter-widgets/controls",
      "_model_module_version": "1.5.0",
      "_model_name": "HBoxModel",
      "_view_count": null,
      "_view_module": "@jupyter-widgets/controls",
      "_view_module_version": "1.5.0",
      "_view_name": "HBoxView",
      "box_style": "",
      "children": [
       "IPY_MODEL_b00a4f5e8c7c4ea3829443e7ceee79fc",
       "IPY_MODEL_d6bc359288c1481abba36661bce52892",
       "IPY_MODEL_b26e8403ae9c43fa9a847fa9ab67f53b"
      ],
      "layout": "IPY_MODEL_1fbc9abf60ef4ef59e9795486618f2c7"
     }
    },
    "1fbc9abf60ef4ef59e9795486618f2c7": {
     "model_module": "@jupyter-widgets/base",
     "model_module_version": "1.2.0",
     "model_name": "LayoutModel",
     "state": {
      "_model_module": "@jupyter-widgets/base",
      "_model_module_version": "1.2.0",
      "_model_name": "LayoutModel",
      "_view_count": null,
      "_view_module": "@jupyter-widgets/base",
      "_view_module_version": "1.2.0",
      "_view_name": "LayoutView",
      "align_content": null,
      "align_items": null,
      "align_self": null,
      "border": null,
      "bottom": null,
      "display": null,
      "flex": null,
      "flex_flow": null,
      "grid_area": null,
      "grid_auto_columns": null,
      "grid_auto_flow": null,
      "grid_auto_rows": null,
      "grid_column": null,
      "grid_gap": null,
      "grid_row": null,
      "grid_template_areas": null,
      "grid_template_columns": null,
      "grid_template_rows": null,
      "height": null,
      "justify_content": null,
      "justify_items": null,
      "left": null,
      "margin": null,
      "max_height": null,
      "max_width": null,
      "min_height": null,
      "min_width": null,
      "object_fit": null,
      "object_position": null,
      "order": null,
      "overflow": null,
      "overflow_x": null,
      "overflow_y": null,
      "padding": null,
      "right": null,
      "top": null,
      "visibility": null,
      "width": null
     }
    },
    "22f29830dd5b49d7bd369b0452ea2138": {
     "model_module": "@jupyter-widgets/controls",
     "model_module_version": "1.5.0",
     "model_name": "HTMLModel",
     "state": {
      "_dom_classes": [],
      "_model_module": "@jupyter-widgets/controls",
      "_model_module_version": "1.5.0",
      "_model_name": "HTMLModel",
      "_view_count": null,
      "_view_module": "@jupyter-widgets/controls",
      "_view_module_version": "1.5.0",
      "_view_name": "HTMLView",
      "description": "",
      "description_tooltip": null,
      "layout": "IPY_MODEL_bd7d60c60eb14db39e4e82b2d309cb72",
      "placeholder": "​",
      "style": "IPY_MODEL_a7fb909097af4a8eb7ded942c3b0f688",
      "value": " 12239/? [01:41&lt;00:00, 106.82it/s]"
     }
    },
    "38952edf953849c6b0d9079e85dfbfa1": {
     "model_module": "@jupyter-widgets/base",
     "model_module_version": "1.2.0",
     "model_name": "LayoutModel",
     "state": {
      "_model_module": "@jupyter-widgets/base",
      "_model_module_version": "1.2.0",
      "_model_name": "LayoutModel",
      "_view_count": null,
      "_view_module": "@jupyter-widgets/base",
      "_view_module_version": "1.2.0",
      "_view_name": "LayoutView",
      "align_content": null,
      "align_items": null,
      "align_self": null,
      "border": null,
      "bottom": null,
      "display": null,
      "flex": null,
      "flex_flow": null,
      "grid_area": null,
      "grid_auto_columns": null,
      "grid_auto_flow": null,
      "grid_auto_rows": null,
      "grid_column": null,
      "grid_gap": null,
      "grid_row": null,
      "grid_template_areas": null,
      "grid_template_columns": null,
      "grid_template_rows": null,
      "height": null,
      "justify_content": null,
      "justify_items": null,
      "left": null,
      "margin": null,
      "max_height": null,
      "max_width": null,
      "min_height": null,
      "min_width": null,
      "object_fit": null,
      "object_position": null,
      "order": null,
      "overflow": null,
      "overflow_x": null,
      "overflow_y": null,
      "padding": null,
      "right": null,
      "top": null,
      "visibility": null,
      "width": null
     }
    },
    "38b2791ac6e74ec28d5b497ed464b1e7": {
     "model_module": "@jupyter-widgets/base",
     "model_module_version": "1.2.0",
     "model_name": "LayoutModel",
     "state": {
      "_model_module": "@jupyter-widgets/base",
      "_model_module_version": "1.2.0",
      "_model_name": "LayoutModel",
      "_view_count": null,
      "_view_module": "@jupyter-widgets/base",
      "_view_module_version": "1.2.0",
      "_view_name": "LayoutView",
      "align_content": null,
      "align_items": null,
      "align_self": null,
      "border": null,
      "bottom": null,
      "display": null,
      "flex": null,
      "flex_flow": null,
      "grid_area": null,
      "grid_auto_columns": null,
      "grid_auto_flow": null,
      "grid_auto_rows": null,
      "grid_column": null,
      "grid_gap": null,
      "grid_row": null,
      "grid_template_areas": null,
      "grid_template_columns": null,
      "grid_template_rows": null,
      "height": null,
      "justify_content": null,
      "justify_items": null,
      "left": null,
      "margin": null,
      "max_height": null,
      "max_width": null,
      "min_height": null,
      "min_width": null,
      "object_fit": null,
      "object_position": null,
      "order": null,
      "overflow": null,
      "overflow_x": null,
      "overflow_y": null,
      "padding": null,
      "right": null,
      "top": null,
      "visibility": null,
      "width": null
     }
    },
    "3bc5440ffea940bc879895e3975ffd27": {
     "model_module": "@jupyter-widgets/base",
     "model_module_version": "1.2.0",
     "model_name": "LayoutModel",
     "state": {
      "_model_module": "@jupyter-widgets/base",
      "_model_module_version": "1.2.0",
      "_model_name": "LayoutModel",
      "_view_count": null,
      "_view_module": "@jupyter-widgets/base",
      "_view_module_version": "1.2.0",
      "_view_name": "LayoutView",
      "align_content": null,
      "align_items": null,
      "align_self": null,
      "border": null,
      "bottom": null,
      "display": null,
      "flex": null,
      "flex_flow": null,
      "grid_area": null,
      "grid_auto_columns": null,
      "grid_auto_flow": null,
      "grid_auto_rows": null,
      "grid_column": null,
      "grid_gap": null,
      "grid_row": null,
      "grid_template_areas": null,
      "grid_template_columns": null,
      "grid_template_rows": null,
      "height": null,
      "justify_content": null,
      "justify_items": null,
      "left": null,
      "margin": null,
      "max_height": null,
      "max_width": null,
      "min_height": null,
      "min_width": null,
      "object_fit": null,
      "object_position": null,
      "order": null,
      "overflow": null,
      "overflow_x": null,
      "overflow_y": null,
      "padding": null,
      "right": null,
      "top": null,
      "visibility": null,
      "width": null
     }
    },
    "3de647bba6a94213b29d9f77c4ffe5b1": {
     "model_module": "@jupyter-widgets/controls",
     "model_module_version": "1.5.0",
     "model_name": "DescriptionStyleModel",
     "state": {
      "_model_module": "@jupyter-widgets/controls",
      "_model_module_version": "1.5.0",
      "_model_name": "DescriptionStyleModel",
      "_view_count": null,
      "_view_module": "@jupyter-widgets/base",
      "_view_module_version": "1.2.0",
      "_view_name": "StyleView",
      "description_width": ""
     }
    },
    "40041e6bdb7043e9a2030d5f1debe878": {
     "model_module": "@jupyter-widgets/controls",
     "model_module_version": "1.5.0",
     "model_name": "HTMLModel",
     "state": {
      "_dom_classes": [],
      "_model_module": "@jupyter-widgets/controls",
      "_model_module_version": "1.5.0",
      "_model_name": "HTMLModel",
      "_view_count": null,
      "_view_module": "@jupyter-widgets/controls",
      "_view_module_version": "1.5.0",
      "_view_name": "HTMLView",
      "description": "",
      "description_tooltip": null,
      "layout": "IPY_MODEL_8c76fe881c2741ceb1a9f11680091240",
      "placeholder": "​",
      "style": "IPY_MODEL_6c2695c6cb564a74a36a99f9dcc8580b",
      "value": " 12239/? [01:44&lt;00:00, 144.43it/s]"
     }
    },
    "402224c78991479e946dd1646b670388": {
     "model_module": "@jupyter-widgets/controls",
     "model_module_version": "1.5.0",
     "model_name": "ProgressStyleModel",
     "state": {
      "_model_module": "@jupyter-widgets/controls",
      "_model_module_version": "1.5.0",
      "_model_name": "ProgressStyleModel",
      "_view_count": null,
      "_view_module": "@jupyter-widgets/base",
      "_view_module_version": "1.2.0",
      "_view_name": "StyleView",
      "bar_color": null,
      "description_width": ""
     }
    },
    "423639141cef483e8a8bd0ce57a39828": {
     "model_module": "@jupyter-widgets/controls",
     "model_module_version": "1.5.0",
     "model_name": "DescriptionStyleModel",
     "state": {
      "_model_module": "@jupyter-widgets/controls",
      "_model_module_version": "1.5.0",
      "_model_name": "DescriptionStyleModel",
      "_view_count": null,
      "_view_module": "@jupyter-widgets/base",
      "_view_module_version": "1.2.0",
      "_view_name": "StyleView",
      "description_width": ""
     }
    },
    "49f63a0a54c546b98ca0f1363508ea8d": {
     "model_module": "@jupyter-widgets/controls",
     "model_module_version": "1.5.0",
     "model_name": "FloatProgressModel",
     "state": {
      "_dom_classes": [],
      "_model_module": "@jupyter-widgets/controls",
      "_model_module_version": "1.5.0",
      "_model_name": "FloatProgressModel",
      "_view_count": null,
      "_view_module": "@jupyter-widgets/controls",
      "_view_module_version": "1.5.0",
      "_view_name": "ProgressView",
      "bar_style": "success",
      "description": "",
      "description_tooltip": null,
      "layout": "IPY_MODEL_c8742f0927274f2d8a0deadf40e58f28",
      "max": 12238,
      "min": 0,
      "orientation": "horizontal",
      "style": "IPY_MODEL_ef1eaf6aa4ad43eb8af06775f762f31c",
      "value": 12238
     }
    },
    "4a066717312949749a7de4c1b2a7d58b": {
     "model_module": "@jupyter-widgets/controls",
     "model_module_version": "1.5.0",
     "model_name": "FloatProgressModel",
     "state": {
      "_dom_classes": [],
      "_model_module": "@jupyter-widgets/controls",
      "_model_module_version": "1.5.0",
      "_model_name": "FloatProgressModel",
      "_view_count": null,
      "_view_module": "@jupyter-widgets/controls",
      "_view_module_version": "1.5.0",
      "_view_name": "ProgressView",
      "bar_style": "success",
      "description": "",
      "description_tooltip": null,
      "layout": "IPY_MODEL_6ce32f68ce8a494ea20f75136f921fec",
      "max": 12238,
      "min": 0,
      "orientation": "horizontal",
      "style": "IPY_MODEL_402224c78991479e946dd1646b670388",
      "value": 12238
     }
    },
    "5187f6a52b4944eb830be4029cab74e2": {
     "model_module": "@jupyter-widgets/controls",
     "model_module_version": "1.5.0",
     "model_name": "DescriptionStyleModel",
     "state": {
      "_model_module": "@jupyter-widgets/controls",
      "_model_module_version": "1.5.0",
      "_model_name": "DescriptionStyleModel",
      "_view_count": null,
      "_view_module": "@jupyter-widgets/base",
      "_view_module_version": "1.2.0",
      "_view_name": "StyleView",
      "description_width": ""
     }
    },
    "581c452f3bbc4eaba78b6c312e524124": {
     "model_module": "@jupyter-widgets/base",
     "model_module_version": "1.2.0",
     "model_name": "LayoutModel",
     "state": {
      "_model_module": "@jupyter-widgets/base",
      "_model_module_version": "1.2.0",
      "_model_name": "LayoutModel",
      "_view_count": null,
      "_view_module": "@jupyter-widgets/base",
      "_view_module_version": "1.2.0",
      "_view_name": "LayoutView",
      "align_content": null,
      "align_items": null,
      "align_self": null,
      "border": null,
      "bottom": null,
      "display": null,
      "flex": null,
      "flex_flow": null,
      "grid_area": null,
      "grid_auto_columns": null,
      "grid_auto_flow": null,
      "grid_auto_rows": null,
      "grid_column": null,
      "grid_gap": null,
      "grid_row": null,
      "grid_template_areas": null,
      "grid_template_columns": null,
      "grid_template_rows": null,
      "height": null,
      "justify_content": null,
      "justify_items": null,
      "left": null,
      "margin": null,
      "max_height": null,
      "max_width": null,
      "min_height": null,
      "min_width": null,
      "object_fit": null,
      "object_position": null,
      "order": null,
      "overflow": null,
      "overflow_x": null,
      "overflow_y": null,
      "padding": null,
      "right": null,
      "top": null,
      "visibility": null,
      "width": null
     }
    },
    "6189596611a440c4a1042ba265e8a34e": {
     "model_module": "@jupyter-widgets/controls",
     "model_module_version": "1.5.0",
     "model_name": "DescriptionStyleModel",
     "state": {
      "_model_module": "@jupyter-widgets/controls",
      "_model_module_version": "1.5.0",
      "_model_name": "DescriptionStyleModel",
      "_view_count": null,
      "_view_module": "@jupyter-widgets/base",
      "_view_module_version": "1.2.0",
      "_view_name": "StyleView",
      "description_width": ""
     }
    },
    "6b58d25800954bb7a69d5d44442c0f17": {
     "model_module": "@jupyter-widgets/base",
     "model_module_version": "1.2.0",
     "model_name": "LayoutModel",
     "state": {
      "_model_module": "@jupyter-widgets/base",
      "_model_module_version": "1.2.0",
      "_model_name": "LayoutModel",
      "_view_count": null,
      "_view_module": "@jupyter-widgets/base",
      "_view_module_version": "1.2.0",
      "_view_name": "LayoutView",
      "align_content": null,
      "align_items": null,
      "align_self": null,
      "border": null,
      "bottom": null,
      "display": null,
      "flex": null,
      "flex_flow": null,
      "grid_area": null,
      "grid_auto_columns": null,
      "grid_auto_flow": null,
      "grid_auto_rows": null,
      "grid_column": null,
      "grid_gap": null,
      "grid_row": null,
      "grid_template_areas": null,
      "grid_template_columns": null,
      "grid_template_rows": null,
      "height": null,
      "justify_content": null,
      "justify_items": null,
      "left": null,
      "margin": null,
      "max_height": null,
      "max_width": null,
      "min_height": null,
      "min_width": null,
      "object_fit": null,
      "object_position": null,
      "order": null,
      "overflow": null,
      "overflow_x": null,
      "overflow_y": null,
      "padding": null,
      "right": null,
      "top": null,
      "visibility": null,
      "width": null
     }
    },
    "6c2695c6cb564a74a36a99f9dcc8580b": {
     "model_module": "@jupyter-widgets/controls",
     "model_module_version": "1.5.0",
     "model_name": "DescriptionStyleModel",
     "state": {
      "_model_module": "@jupyter-widgets/controls",
      "_model_module_version": "1.5.0",
      "_model_name": "DescriptionStyleModel",
      "_view_count": null,
      "_view_module": "@jupyter-widgets/base",
      "_view_module_version": "1.2.0",
      "_view_name": "StyleView",
      "description_width": ""
     }
    },
    "6ce32f68ce8a494ea20f75136f921fec": {
     "model_module": "@jupyter-widgets/base",
     "model_module_version": "1.2.0",
     "model_name": "LayoutModel",
     "state": {
      "_model_module": "@jupyter-widgets/base",
      "_model_module_version": "1.2.0",
      "_model_name": "LayoutModel",
      "_view_count": null,
      "_view_module": "@jupyter-widgets/base",
      "_view_module_version": "1.2.0",
      "_view_name": "LayoutView",
      "align_content": null,
      "align_items": null,
      "align_self": null,
      "border": null,
      "bottom": null,
      "display": null,
      "flex": null,
      "flex_flow": null,
      "grid_area": null,
      "grid_auto_columns": null,
      "grid_auto_flow": null,
      "grid_auto_rows": null,
      "grid_column": null,
      "grid_gap": null,
      "grid_row": null,
      "grid_template_areas": null,
      "grid_template_columns": null,
      "grid_template_rows": null,
      "height": null,
      "justify_content": null,
      "justify_items": null,
      "left": null,
      "margin": null,
      "max_height": null,
      "max_width": null,
      "min_height": null,
      "min_width": null,
      "object_fit": null,
      "object_position": null,
      "order": null,
      "overflow": null,
      "overflow_x": null,
      "overflow_y": null,
      "padding": null,
      "right": null,
      "top": null,
      "visibility": null,
      "width": null
     }
    },
    "6f03f29668a8401b885338319dd9a681": {
     "model_module": "@jupyter-widgets/base",
     "model_module_version": "1.2.0",
     "model_name": "LayoutModel",
     "state": {
      "_model_module": "@jupyter-widgets/base",
      "_model_module_version": "1.2.0",
      "_model_name": "LayoutModel",
      "_view_count": null,
      "_view_module": "@jupyter-widgets/base",
      "_view_module_version": "1.2.0",
      "_view_name": "LayoutView",
      "align_content": null,
      "align_items": null,
      "align_self": null,
      "border": null,
      "bottom": null,
      "display": null,
      "flex": null,
      "flex_flow": null,
      "grid_area": null,
      "grid_auto_columns": null,
      "grid_auto_flow": null,
      "grid_auto_rows": null,
      "grid_column": null,
      "grid_gap": null,
      "grid_row": null,
      "grid_template_areas": null,
      "grid_template_columns": null,
      "grid_template_rows": null,
      "height": null,
      "justify_content": null,
      "justify_items": null,
      "left": null,
      "margin": null,
      "max_height": null,
      "max_width": null,
      "min_height": null,
      "min_width": null,
      "object_fit": null,
      "object_position": null,
      "order": null,
      "overflow": null,
      "overflow_x": null,
      "overflow_y": null,
      "padding": null,
      "right": null,
      "top": null,
      "visibility": null,
      "width": null
     }
    },
    "76905ac44264454fb1880f59e0d6f271": {
     "model_module": "@jupyter-widgets/controls",
     "model_module_version": "1.5.0",
     "model_name": "HBoxModel",
     "state": {
      "_dom_classes": [],
      "_model_module": "@jupyter-widgets/controls",
      "_model_module_version": "1.5.0",
      "_model_name": "HBoxModel",
      "_view_count": null,
      "_view_module": "@jupyter-widgets/controls",
      "_view_module_version": "1.5.0",
      "_view_name": "HBoxView",
      "box_style": "",
      "children": [
       "IPY_MODEL_c891d0af2a6946009db858c9ec98d3a1",
       "IPY_MODEL_09b33174cc1545c58b4e1fdbcb61fc97",
       "IPY_MODEL_22f29830dd5b49d7bd369b0452ea2138"
      ],
      "layout": "IPY_MODEL_581c452f3bbc4eaba78b6c312e524124"
     }
    },
    "7859228813094b7fa4dd53b6ca41d458": {
     "model_module": "@jupyter-widgets/controls",
     "model_module_version": "1.5.0",
     "model_name": "FloatProgressModel",
     "state": {
      "_dom_classes": [],
      "_model_module": "@jupyter-widgets/controls",
      "_model_module_version": "1.5.0",
      "_model_name": "FloatProgressModel",
      "_view_count": null,
      "_view_module": "@jupyter-widgets/controls",
      "_view_module_version": "1.5.0",
      "_view_name": "ProgressView",
      "bar_style": "success",
      "description": "",
      "description_tooltip": null,
      "layout": "IPY_MODEL_a7bb293965d94d488664b6fb7290ead4",
      "max": 12238,
      "min": 0,
      "orientation": "horizontal",
      "style": "IPY_MODEL_dd03c2a1fcb247efb279243cdd0f454a",
      "value": 12238
     }
    },
    "790e80cb99c24293a1cfb64804b23b0a": {
     "model_module": "@jupyter-widgets/controls",
     "model_module_version": "1.5.0",
     "model_name": "HTMLModel",
     "state": {
      "_dom_classes": [],
      "_model_module": "@jupyter-widgets/controls",
      "_model_module_version": "1.5.0",
      "_model_name": "HTMLModel",
      "_view_count": null,
      "_view_module": "@jupyter-widgets/controls",
      "_view_module_version": "1.5.0",
      "_view_name": "HTMLView",
      "description": "",
      "description_tooltip": null,
      "layout": "IPY_MODEL_6f03f29668a8401b885338319dd9a681",
      "placeholder": "​",
      "style": "IPY_MODEL_a23f475aaafd48b2a87a6047bfbc39e6",
      "value": ""
     }
    },
    "871194afc27d4f9bbbe43858d7d788e4": {
     "model_module": "@jupyter-widgets/controls",
     "model_module_version": "1.5.0",
     "model_name": "ProgressStyleModel",
     "state": {
      "_model_module": "@jupyter-widgets/controls",
      "_model_module_version": "1.5.0",
      "_model_name": "ProgressStyleModel",
      "_view_count": null,
      "_view_module": "@jupyter-widgets/base",
      "_view_module_version": "1.2.0",
      "_view_name": "StyleView",
      "bar_color": null,
      "description_width": ""
     }
    },
    "8c76fe881c2741ceb1a9f11680091240": {
     "model_module": "@jupyter-widgets/base",
     "model_module_version": "1.2.0",
     "model_name": "LayoutModel",
     "state": {
      "_model_module": "@jupyter-widgets/base",
      "_model_module_version": "1.2.0",
      "_model_name": "LayoutModel",
      "_view_count": null,
      "_view_module": "@jupyter-widgets/base",
      "_view_module_version": "1.2.0",
      "_view_name": "LayoutView",
      "align_content": null,
      "align_items": null,
      "align_self": null,
      "border": null,
      "bottom": null,
      "display": null,
      "flex": null,
      "flex_flow": null,
      "grid_area": null,
      "grid_auto_columns": null,
      "grid_auto_flow": null,
      "grid_auto_rows": null,
      "grid_column": null,
      "grid_gap": null,
      "grid_row": null,
      "grid_template_areas": null,
      "grid_template_columns": null,
      "grid_template_rows": null,
      "height": null,
      "justify_content": null,
      "justify_items": null,
      "left": null,
      "margin": null,
      "max_height": null,
      "max_width": null,
      "min_height": null,
      "min_width": null,
      "object_fit": null,
      "object_position": null,
      "order": null,
      "overflow": null,
      "overflow_x": null,
      "overflow_y": null,
      "padding": null,
      "right": null,
      "top": null,
      "visibility": null,
      "width": null
     }
    },
    "9103da34bec44e3a9ac0a5cb752e5125": {
     "model_module": "@jupyter-widgets/base",
     "model_module_version": "1.2.0",
     "model_name": "LayoutModel",
     "state": {
      "_model_module": "@jupyter-widgets/base",
      "_model_module_version": "1.2.0",
      "_model_name": "LayoutModel",
      "_view_count": null,
      "_view_module": "@jupyter-widgets/base",
      "_view_module_version": "1.2.0",
      "_view_name": "LayoutView",
      "align_content": null,
      "align_items": null,
      "align_self": null,
      "border": null,
      "bottom": null,
      "display": null,
      "flex": null,
      "flex_flow": null,
      "grid_area": null,
      "grid_auto_columns": null,
      "grid_auto_flow": null,
      "grid_auto_rows": null,
      "grid_column": null,
      "grid_gap": null,
      "grid_row": null,
      "grid_template_areas": null,
      "grid_template_columns": null,
      "grid_template_rows": null,
      "height": null,
      "justify_content": null,
      "justify_items": null,
      "left": null,
      "margin": null,
      "max_height": null,
      "max_width": null,
      "min_height": null,
      "min_width": null,
      "object_fit": null,
      "object_position": null,
      "order": null,
      "overflow": null,
      "overflow_x": null,
      "overflow_y": null,
      "padding": null,
      "right": null,
      "top": null,
      "visibility": null,
      "width": null
     }
    },
    "947a9e20d7d54666b51bceebd8fac4d1": {
     "model_module": "@jupyter-widgets/controls",
     "model_module_version": "1.5.0",
     "model_name": "HBoxModel",
     "state": {
      "_dom_classes": [],
      "_model_module": "@jupyter-widgets/controls",
      "_model_module_version": "1.5.0",
      "_model_name": "HBoxModel",
      "_view_count": null,
      "_view_module": "@jupyter-widgets/controls",
      "_view_module_version": "1.5.0",
      "_view_name": "HBoxView",
      "box_style": "",
      "children": [
       "IPY_MODEL_f4f5fd6bfa1e4a9b8db2a3a2baf1330a",
       "IPY_MODEL_49f63a0a54c546b98ca0f1363508ea8d",
       "IPY_MODEL_ae76774099db48549376256139f7ff29"
      ],
      "layout": "IPY_MODEL_6b58d25800954bb7a69d5d44442c0f17"
     }
    },
    "99e42b716f8e4e599699b6116571780b": {
     "model_module": "@jupyter-widgets/controls",
     "model_module_version": "1.5.0",
     "model_name": "ProgressStyleModel",
     "state": {
      "_model_module": "@jupyter-widgets/controls",
      "_model_module_version": "1.5.0",
      "_model_name": "ProgressStyleModel",
      "_view_count": null,
      "_view_module": "@jupyter-widgets/base",
      "_view_module_version": "1.2.0",
      "_view_name": "StyleView",
      "bar_color": null,
      "description_width": ""
     }
    },
    "a23f475aaafd48b2a87a6047bfbc39e6": {
     "model_module": "@jupyter-widgets/controls",
     "model_module_version": "1.5.0",
     "model_name": "DescriptionStyleModel",
     "state": {
      "_model_module": "@jupyter-widgets/controls",
      "_model_module_version": "1.5.0",
      "_model_name": "DescriptionStyleModel",
      "_view_count": null,
      "_view_module": "@jupyter-widgets/base",
      "_view_module_version": "1.2.0",
      "_view_name": "StyleView",
      "description_width": ""
     }
    },
    "a6124e02aa8d48afa4eb8d9238db18bc": {
     "model_module": "@jupyter-widgets/base",
     "model_module_version": "1.2.0",
     "model_name": "LayoutModel",
     "state": {
      "_model_module": "@jupyter-widgets/base",
      "_model_module_version": "1.2.0",
      "_model_name": "LayoutModel",
      "_view_count": null,
      "_view_module": "@jupyter-widgets/base",
      "_view_module_version": "1.2.0",
      "_view_name": "LayoutView",
      "align_content": null,
      "align_items": null,
      "align_self": null,
      "border": null,
      "bottom": null,
      "display": null,
      "flex": null,
      "flex_flow": null,
      "grid_area": null,
      "grid_auto_columns": null,
      "grid_auto_flow": null,
      "grid_auto_rows": null,
      "grid_column": null,
      "grid_gap": null,
      "grid_row": null,
      "grid_template_areas": null,
      "grid_template_columns": null,
      "grid_template_rows": null,
      "height": null,
      "justify_content": null,
      "justify_items": null,
      "left": null,
      "margin": null,
      "max_height": null,
      "max_width": null,
      "min_height": null,
      "min_width": null,
      "object_fit": null,
      "object_position": null,
      "order": null,
      "overflow": null,
      "overflow_x": null,
      "overflow_y": null,
      "padding": null,
      "right": null,
      "top": null,
      "visibility": null,
      "width": null
     }
    },
    "a7188ebde28241c694e501121ecc3f8a": {
     "model_module": "@jupyter-widgets/controls",
     "model_module_version": "1.5.0",
     "model_name": "HBoxModel",
     "state": {
      "_dom_classes": [],
      "_model_module": "@jupyter-widgets/controls",
      "_model_module_version": "1.5.0",
      "_model_name": "HBoxModel",
      "_view_count": null,
      "_view_module": "@jupyter-widgets/controls",
      "_view_module_version": "1.5.0",
      "_view_name": "HBoxView",
      "box_style": "",
      "children": [
       "IPY_MODEL_790e80cb99c24293a1cfb64804b23b0a",
       "IPY_MODEL_7859228813094b7fa4dd53b6ca41d458",
       "IPY_MODEL_40041e6bdb7043e9a2030d5f1debe878"
      ],
      "layout": "IPY_MODEL_fae6f97c290a48eaa2be15f521acd45b"
     }
    },
    "a7bb293965d94d488664b6fb7290ead4": {
     "model_module": "@jupyter-widgets/base",
     "model_module_version": "1.2.0",
     "model_name": "LayoutModel",
     "state": {
      "_model_module": "@jupyter-widgets/base",
      "_model_module_version": "1.2.0",
      "_model_name": "LayoutModel",
      "_view_count": null,
      "_view_module": "@jupyter-widgets/base",
      "_view_module_version": "1.2.0",
      "_view_name": "LayoutView",
      "align_content": null,
      "align_items": null,
      "align_self": null,
      "border": null,
      "bottom": null,
      "display": null,
      "flex": null,
      "flex_flow": null,
      "grid_area": null,
      "grid_auto_columns": null,
      "grid_auto_flow": null,
      "grid_auto_rows": null,
      "grid_column": null,
      "grid_gap": null,
      "grid_row": null,
      "grid_template_areas": null,
      "grid_template_columns": null,
      "grid_template_rows": null,
      "height": null,
      "justify_content": null,
      "justify_items": null,
      "left": null,
      "margin": null,
      "max_height": null,
      "max_width": null,
      "min_height": null,
      "min_width": null,
      "object_fit": null,
      "object_position": null,
      "order": null,
      "overflow": null,
      "overflow_x": null,
      "overflow_y": null,
      "padding": null,
      "right": null,
      "top": null,
      "visibility": null,
      "width": null
     }
    },
    "a7fb909097af4a8eb7ded942c3b0f688": {
     "model_module": "@jupyter-widgets/controls",
     "model_module_version": "1.5.0",
     "model_name": "DescriptionStyleModel",
     "state": {
      "_model_module": "@jupyter-widgets/controls",
      "_model_module_version": "1.5.0",
      "_model_name": "DescriptionStyleModel",
      "_view_count": null,
      "_view_module": "@jupyter-widgets/base",
      "_view_module_version": "1.2.0",
      "_view_name": "StyleView",
      "description_width": ""
     }
    },
    "ae76774099db48549376256139f7ff29": {
     "model_module": "@jupyter-widgets/controls",
     "model_module_version": "1.5.0",
     "model_name": "HTMLModel",
     "state": {
      "_dom_classes": [],
      "_model_module": "@jupyter-widgets/controls",
      "_model_module_version": "1.5.0",
      "_model_name": "HTMLModel",
      "_view_count": null,
      "_view_module": "@jupyter-widgets/controls",
      "_view_module_version": "1.5.0",
      "_view_name": "HTMLView",
      "description": "",
      "description_tooltip": null,
      "layout": "IPY_MODEL_d3ca45bb799d4cfaaeaa7efa69aab106",
      "placeholder": "​",
      "style": "IPY_MODEL_6189596611a440c4a1042ba265e8a34e",
      "value": " 12239/? [01:44&lt;00:00, 150.47it/s]"
     }
    },
    "b00a4f5e8c7c4ea3829443e7ceee79fc": {
     "model_module": "@jupyter-widgets/controls",
     "model_module_version": "1.5.0",
     "model_name": "HTMLModel",
     "state": {
      "_dom_classes": [],
      "_model_module": "@jupyter-widgets/controls",
      "_model_module_version": "1.5.0",
      "_model_name": "HTMLModel",
      "_view_count": null,
      "_view_module": "@jupyter-widgets/controls",
      "_view_module_version": "1.5.0",
      "_view_name": "HTMLView",
      "description": "",
      "description_tooltip": null,
      "layout": "IPY_MODEL_c44cab0d828b475396873cf738ef16fc",
      "placeholder": "​",
      "style": "IPY_MODEL_fd736eef281c40d9ac3e0c958e083887",
      "value": ""
     }
    },
    "b214ec84efde46d792ff323a1488a079": {
     "model_module": "@jupyter-widgets/base",
     "model_module_version": "1.2.0",
     "model_name": "LayoutModel",
     "state": {
      "_model_module": "@jupyter-widgets/base",
      "_model_module_version": "1.2.0",
      "_model_name": "LayoutModel",
      "_view_count": null,
      "_view_module": "@jupyter-widgets/base",
      "_view_module_version": "1.2.0",
      "_view_name": "LayoutView",
      "align_content": null,
      "align_items": null,
      "align_self": null,
      "border": null,
      "bottom": null,
      "display": null,
      "flex": null,
      "flex_flow": null,
      "grid_area": null,
      "grid_auto_columns": null,
      "grid_auto_flow": null,
      "grid_auto_rows": null,
      "grid_column": null,
      "grid_gap": null,
      "grid_row": null,
      "grid_template_areas": null,
      "grid_template_columns": null,
      "grid_template_rows": null,
      "height": null,
      "justify_content": null,
      "justify_items": null,
      "left": null,
      "margin": null,
      "max_height": null,
      "max_width": null,
      "min_height": null,
      "min_width": null,
      "object_fit": null,
      "object_position": null,
      "order": null,
      "overflow": null,
      "overflow_x": null,
      "overflow_y": null,
      "padding": null,
      "right": null,
      "top": null,
      "visibility": null,
      "width": null
     }
    },
    "b26e8403ae9c43fa9a847fa9ab67f53b": {
     "model_module": "@jupyter-widgets/controls",
     "model_module_version": "1.5.0",
     "model_name": "HTMLModel",
     "state": {
      "_dom_classes": [],
      "_model_module": "@jupyter-widgets/controls",
      "_model_module_version": "1.5.0",
      "_model_name": "HTMLModel",
      "_view_count": null,
      "_view_module": "@jupyter-widgets/controls",
      "_view_module_version": "1.5.0",
      "_view_name": "HTMLView",
      "description": "",
      "description_tooltip": null,
      "layout": "IPY_MODEL_cc64ff02dd524a9e988487893730a3c6",
      "placeholder": "​",
      "style": "IPY_MODEL_423639141cef483e8a8bd0ce57a39828",
      "value": " 12239/? [01:49&lt;00:00, 153.25it/s]"
     }
    },
    "b37db1967b304f18ac8014de6c52e208": {
     "model_module": "@jupyter-widgets/controls",
     "model_module_version": "1.5.0",
     "model_name": "HTMLModel",
     "state": {
      "_dom_classes": [],
      "_model_module": "@jupyter-widgets/controls",
      "_model_module_version": "1.5.0",
      "_model_name": "HTMLModel",
      "_view_count": null,
      "_view_module": "@jupyter-widgets/controls",
      "_view_module_version": "1.5.0",
      "_view_name": "HTMLView",
      "description": "",
      "description_tooltip": null,
      "layout": "IPY_MODEL_9103da34bec44e3a9ac0a5cb752e5125",
      "placeholder": "​",
      "style": "IPY_MODEL_3de647bba6a94213b29d9f77c4ffe5b1",
      "value": ""
     }
    },
    "bd7d60c60eb14db39e4e82b2d309cb72": {
     "model_module": "@jupyter-widgets/base",
     "model_module_version": "1.2.0",
     "model_name": "LayoutModel",
     "state": {
      "_model_module": "@jupyter-widgets/base",
      "_model_module_version": "1.2.0",
      "_model_name": "LayoutModel",
      "_view_count": null,
      "_view_module": "@jupyter-widgets/base",
      "_view_module_version": "1.2.0",
      "_view_name": "LayoutView",
      "align_content": null,
      "align_items": null,
      "align_self": null,
      "border": null,
      "bottom": null,
      "display": null,
      "flex": null,
      "flex_flow": null,
      "grid_area": null,
      "grid_auto_columns": null,
      "grid_auto_flow": null,
      "grid_auto_rows": null,
      "grid_column": null,
      "grid_gap": null,
      "grid_row": null,
      "grid_template_areas": null,
      "grid_template_columns": null,
      "grid_template_rows": null,
      "height": null,
      "justify_content": null,
      "justify_items": null,
      "left": null,
      "margin": null,
      "max_height": null,
      "max_width": null,
      "min_height": null,
      "min_width": null,
      "object_fit": null,
      "object_position": null,
      "order": null,
      "overflow": null,
      "overflow_x": null,
      "overflow_y": null,
      "padding": null,
      "right": null,
      "top": null,
      "visibility": null,
      "width": null
     }
    },
    "bfdaa0b250ec4045a51c0a220e7d2934": {
     "model_module": "@jupyter-widgets/controls",
     "model_module_version": "1.5.0",
     "model_name": "HTMLModel",
     "state": {
      "_dom_classes": [],
      "_model_module": "@jupyter-widgets/controls",
      "_model_module_version": "1.5.0",
      "_model_name": "HTMLModel",
      "_view_count": null,
      "_view_module": "@jupyter-widgets/controls",
      "_view_module_version": "1.5.0",
      "_view_name": "HTMLView",
      "description": "",
      "description_tooltip": null,
      "layout": "IPY_MODEL_cd8de4a6c133450cabda0271ffe3f220",
      "placeholder": "​",
      "style": "IPY_MODEL_095c00c08f6d4d638ff986b700c9db2e",
      "value": " 12239/? [01:52&lt;00:00, 111.02it/s]"
     }
    },
    "c44cab0d828b475396873cf738ef16fc": {
     "model_module": "@jupyter-widgets/base",
     "model_module_version": "1.2.0",
     "model_name": "LayoutModel",
     "state": {
      "_model_module": "@jupyter-widgets/base",
      "_model_module_version": "1.2.0",
      "_model_name": "LayoutModel",
      "_view_count": null,
      "_view_module": "@jupyter-widgets/base",
      "_view_module_version": "1.2.0",
      "_view_name": "LayoutView",
      "align_content": null,
      "align_items": null,
      "align_self": null,
      "border": null,
      "bottom": null,
      "display": null,
      "flex": null,
      "flex_flow": null,
      "grid_area": null,
      "grid_auto_columns": null,
      "grid_auto_flow": null,
      "grid_auto_rows": null,
      "grid_column": null,
      "grid_gap": null,
      "grid_row": null,
      "grid_template_areas": null,
      "grid_template_columns": null,
      "grid_template_rows": null,
      "height": null,
      "justify_content": null,
      "justify_items": null,
      "left": null,
      "margin": null,
      "max_height": null,
      "max_width": null,
      "min_height": null,
      "min_width": null,
      "object_fit": null,
      "object_position": null,
      "order": null,
      "overflow": null,
      "overflow_x": null,
      "overflow_y": null,
      "padding": null,
      "right": null,
      "top": null,
      "visibility": null,
      "width": null
     }
    },
    "c8742f0927274f2d8a0deadf40e58f28": {
     "model_module": "@jupyter-widgets/base",
     "model_module_version": "1.2.0",
     "model_name": "LayoutModel",
     "state": {
      "_model_module": "@jupyter-widgets/base",
      "_model_module_version": "1.2.0",
      "_model_name": "LayoutModel",
      "_view_count": null,
      "_view_module": "@jupyter-widgets/base",
      "_view_module_version": "1.2.0",
      "_view_name": "LayoutView",
      "align_content": null,
      "align_items": null,
      "align_self": null,
      "border": null,
      "bottom": null,
      "display": null,
      "flex": null,
      "flex_flow": null,
      "grid_area": null,
      "grid_auto_columns": null,
      "grid_auto_flow": null,
      "grid_auto_rows": null,
      "grid_column": null,
      "grid_gap": null,
      "grid_row": null,
      "grid_template_areas": null,
      "grid_template_columns": null,
      "grid_template_rows": null,
      "height": null,
      "justify_content": null,
      "justify_items": null,
      "left": null,
      "margin": null,
      "max_height": null,
      "max_width": null,
      "min_height": null,
      "min_width": null,
      "object_fit": null,
      "object_position": null,
      "order": null,
      "overflow": null,
      "overflow_x": null,
      "overflow_y": null,
      "padding": null,
      "right": null,
      "top": null,
      "visibility": null,
      "width": null
     }
    },
    "c891d0af2a6946009db858c9ec98d3a1": {
     "model_module": "@jupyter-widgets/controls",
     "model_module_version": "1.5.0",
     "model_name": "HTMLModel",
     "state": {
      "_dom_classes": [],
      "_model_module": "@jupyter-widgets/controls",
      "_model_module_version": "1.5.0",
      "_model_name": "HTMLModel",
      "_view_count": null,
      "_view_module": "@jupyter-widgets/controls",
      "_view_module_version": "1.5.0",
      "_view_name": "HTMLView",
      "description": "",
      "description_tooltip": null,
      "layout": "IPY_MODEL_3bc5440ffea940bc879895e3975ffd27",
      "placeholder": "​",
      "style": "IPY_MODEL_0a231bc0f5744d799ec2eb21538c7475",
      "value": ""
     }
    },
    "cc64ff02dd524a9e988487893730a3c6": {
     "model_module": "@jupyter-widgets/base",
     "model_module_version": "1.2.0",
     "model_name": "LayoutModel",
     "state": {
      "_model_module": "@jupyter-widgets/base",
      "_model_module_version": "1.2.0",
      "_model_name": "LayoutModel",
      "_view_count": null,
      "_view_module": "@jupyter-widgets/base",
      "_view_module_version": "1.2.0",
      "_view_name": "LayoutView",
      "align_content": null,
      "align_items": null,
      "align_self": null,
      "border": null,
      "bottom": null,
      "display": null,
      "flex": null,
      "flex_flow": null,
      "grid_area": null,
      "grid_auto_columns": null,
      "grid_auto_flow": null,
      "grid_auto_rows": null,
      "grid_column": null,
      "grid_gap": null,
      "grid_row": null,
      "grid_template_areas": null,
      "grid_template_columns": null,
      "grid_template_rows": null,
      "height": null,
      "justify_content": null,
      "justify_items": null,
      "left": null,
      "margin": null,
      "max_height": null,
      "max_width": null,
      "min_height": null,
      "min_width": null,
      "object_fit": null,
      "object_position": null,
      "order": null,
      "overflow": null,
      "overflow_x": null,
      "overflow_y": null,
      "padding": null,
      "right": null,
      "top": null,
      "visibility": null,
      "width": null
     }
    },
    "cd8de4a6c133450cabda0271ffe3f220": {
     "model_module": "@jupyter-widgets/base",
     "model_module_version": "1.2.0",
     "model_name": "LayoutModel",
     "state": {
      "_model_module": "@jupyter-widgets/base",
      "_model_module_version": "1.2.0",
      "_model_name": "LayoutModel",
      "_view_count": null,
      "_view_module": "@jupyter-widgets/base",
      "_view_module_version": "1.2.0",
      "_view_name": "LayoutView",
      "align_content": null,
      "align_items": null,
      "align_self": null,
      "border": null,
      "bottom": null,
      "display": null,
      "flex": null,
      "flex_flow": null,
      "grid_area": null,
      "grid_auto_columns": null,
      "grid_auto_flow": null,
      "grid_auto_rows": null,
      "grid_column": null,
      "grid_gap": null,
      "grid_row": null,
      "grid_template_areas": null,
      "grid_template_columns": null,
      "grid_template_rows": null,
      "height": null,
      "justify_content": null,
      "justify_items": null,
      "left": null,
      "margin": null,
      "max_height": null,
      "max_width": null,
      "min_height": null,
      "min_width": null,
      "object_fit": null,
      "object_position": null,
      "order": null,
      "overflow": null,
      "overflow_x": null,
      "overflow_y": null,
      "padding": null,
      "right": null,
      "top": null,
      "visibility": null,
      "width": null
     }
    },
    "d3ca45bb799d4cfaaeaa7efa69aab106": {
     "model_module": "@jupyter-widgets/base",
     "model_module_version": "1.2.0",
     "model_name": "LayoutModel",
     "state": {
      "_model_module": "@jupyter-widgets/base",
      "_model_module_version": "1.2.0",
      "_model_name": "LayoutModel",
      "_view_count": null,
      "_view_module": "@jupyter-widgets/base",
      "_view_module_version": "1.2.0",
      "_view_name": "LayoutView",
      "align_content": null,
      "align_items": null,
      "align_self": null,
      "border": null,
      "bottom": null,
      "display": null,
      "flex": null,
      "flex_flow": null,
      "grid_area": null,
      "grid_auto_columns": null,
      "grid_auto_flow": null,
      "grid_auto_rows": null,
      "grid_column": null,
      "grid_gap": null,
      "grid_row": null,
      "grid_template_areas": null,
      "grid_template_columns": null,
      "grid_template_rows": null,
      "height": null,
      "justify_content": null,
      "justify_items": null,
      "left": null,
      "margin": null,
      "max_height": null,
      "max_width": null,
      "min_height": null,
      "min_width": null,
      "object_fit": null,
      "object_position": null,
      "order": null,
      "overflow": null,
      "overflow_x": null,
      "overflow_y": null,
      "padding": null,
      "right": null,
      "top": null,
      "visibility": null,
      "width": null
     }
    },
    "d6bc359288c1481abba36661bce52892": {
     "model_module": "@jupyter-widgets/controls",
     "model_module_version": "1.5.0",
     "model_name": "FloatProgressModel",
     "state": {
      "_dom_classes": [],
      "_model_module": "@jupyter-widgets/controls",
      "_model_module_version": "1.5.0",
      "_model_name": "FloatProgressModel",
      "_view_count": null,
      "_view_module": "@jupyter-widgets/controls",
      "_view_module_version": "1.5.0",
      "_view_name": "ProgressView",
      "bar_style": "success",
      "description": "",
      "description_tooltip": null,
      "layout": "IPY_MODEL_b214ec84efde46d792ff323a1488a079",
      "max": 12238,
      "min": 0,
      "orientation": "horizontal",
      "style": "IPY_MODEL_99e42b716f8e4e599699b6116571780b",
      "value": 12238
     }
    },
    "dd03c2a1fcb247efb279243cdd0f454a": {
     "model_module": "@jupyter-widgets/controls",
     "model_module_version": "1.5.0",
     "model_name": "ProgressStyleModel",
     "state": {
      "_model_module": "@jupyter-widgets/controls",
      "_model_module_version": "1.5.0",
      "_model_name": "ProgressStyleModel",
      "_view_count": null,
      "_view_module": "@jupyter-widgets/base",
      "_view_module_version": "1.2.0",
      "_view_name": "StyleView",
      "bar_color": null,
      "description_width": ""
     }
    },
    "ee5442849a22475a8dfabec35fe90ab9": {
     "model_module": "@jupyter-widgets/controls",
     "model_module_version": "1.5.0",
     "model_name": "HBoxModel",
     "state": {
      "_dom_classes": [],
      "_model_module": "@jupyter-widgets/controls",
      "_model_module_version": "1.5.0",
      "_model_name": "HBoxModel",
      "_view_count": null,
      "_view_module": "@jupyter-widgets/controls",
      "_view_module_version": "1.5.0",
      "_view_name": "HBoxView",
      "box_style": "",
      "children": [
       "IPY_MODEL_b37db1967b304f18ac8014de6c52e208",
       "IPY_MODEL_4a066717312949749a7de4c1b2a7d58b",
       "IPY_MODEL_bfdaa0b250ec4045a51c0a220e7d2934"
      ],
      "layout": "IPY_MODEL_a6124e02aa8d48afa4eb8d9238db18bc"
     }
    },
    "ef1eaf6aa4ad43eb8af06775f762f31c": {
     "model_module": "@jupyter-widgets/controls",
     "model_module_version": "1.5.0",
     "model_name": "ProgressStyleModel",
     "state": {
      "_model_module": "@jupyter-widgets/controls",
      "_model_module_version": "1.5.0",
      "_model_name": "ProgressStyleModel",
      "_view_count": null,
      "_view_module": "@jupyter-widgets/base",
      "_view_module_version": "1.2.0",
      "_view_name": "StyleView",
      "bar_color": null,
      "description_width": ""
     }
    },
    "f4f5fd6bfa1e4a9b8db2a3a2baf1330a": {
     "model_module": "@jupyter-widgets/controls",
     "model_module_version": "1.5.0",
     "model_name": "HTMLModel",
     "state": {
      "_dom_classes": [],
      "_model_module": "@jupyter-widgets/controls",
      "_model_module_version": "1.5.0",
      "_model_name": "HTMLModel",
      "_view_count": null,
      "_view_module": "@jupyter-widgets/controls",
      "_view_module_version": "1.5.0",
      "_view_name": "HTMLView",
      "description": "",
      "description_tooltip": null,
      "layout": "IPY_MODEL_38b2791ac6e74ec28d5b497ed464b1e7",
      "placeholder": "​",
      "style": "IPY_MODEL_5187f6a52b4944eb830be4029cab74e2",
      "value": ""
     }
    },
    "fae6f97c290a48eaa2be15f521acd45b": {
     "model_module": "@jupyter-widgets/base",
     "model_module_version": "1.2.0",
     "model_name": "LayoutModel",
     "state": {
      "_model_module": "@jupyter-widgets/base",
      "_model_module_version": "1.2.0",
      "_model_name": "LayoutModel",
      "_view_count": null,
      "_view_module": "@jupyter-widgets/base",
      "_view_module_version": "1.2.0",
      "_view_name": "LayoutView",
      "align_content": null,
      "align_items": null,
      "align_self": null,
      "border": null,
      "bottom": null,
      "display": null,
      "flex": null,
      "flex_flow": null,
      "grid_area": null,
      "grid_auto_columns": null,
      "grid_auto_flow": null,
      "grid_auto_rows": null,
      "grid_column": null,
      "grid_gap": null,
      "grid_row": null,
      "grid_template_areas": null,
      "grid_template_columns": null,
      "grid_template_rows": null,
      "height": null,
      "justify_content": null,
      "justify_items": null,
      "left": null,
      "margin": null,
      "max_height": null,
      "max_width": null,
      "min_height": null,
      "min_width": null,
      "object_fit": null,
      "object_position": null,
      "order": null,
      "overflow": null,
      "overflow_x": null,
      "overflow_y": null,
      "padding": null,
      "right": null,
      "top": null,
      "visibility": null,
      "width": null
     }
    },
    "fd736eef281c40d9ac3e0c958e083887": {
     "model_module": "@jupyter-widgets/controls",
     "model_module_version": "1.5.0",
     "model_name": "DescriptionStyleModel",
     "state": {
      "_model_module": "@jupyter-widgets/controls",
      "_model_module_version": "1.5.0",
      "_model_name": "DescriptionStyleModel",
      "_view_count": null,
      "_view_module": "@jupyter-widgets/base",
      "_view_module_version": "1.2.0",
      "_view_name": "StyleView",
      "description_width": ""
     }
    }
   }
  }
 },
 "nbformat": 4,
 "nbformat_minor": 1
}
